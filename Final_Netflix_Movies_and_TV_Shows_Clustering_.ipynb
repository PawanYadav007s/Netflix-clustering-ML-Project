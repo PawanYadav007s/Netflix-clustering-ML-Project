{
  "cells": [
    {
      "cell_type": "markdown",
      "metadata": {
        "id": "view-in-github",
        "colab_type": "text"
      },
      "source": [
        "<a href=\"https://colab.research.google.com/github/PawanYadav007s/Netflix-clustering-ML-Project/blob/main/Final_Netflix_Movies_and_TV_Shows_Clustering_.ipynb\" target=\"_parent\"><img src=\"https://colab.research.google.com/assets/colab-badge.svg\" alt=\"Open In Colab\"/></a>"
      ]
    },
    {
      "cell_type": "markdown",
      "metadata": {
        "id": "vncDsAP0Gaoa"
      },
      "source": [
        "# **Project Name**    - Netflix-Movies-and-TV-Shows-Clustering.\n",
        "\n",
        "\n",
        "\n"
      ]
    },
    {
      "cell_type": "markdown",
      "metadata": {
        "id": "beRrZCGUAJYm"
      },
      "source": [
        "##### **Project Type**    - EDA/Unsupervised\n",
        "##### **Contribution**    - Individual\n",
        "##### **Name**    - Pawan Anil Yadav\n",
        "##### **Mail**    - pawanyadav211191@gmail.com"
      ]
    },
    {
      "cell_type": "markdown",
      "metadata": {
        "id": "FJNUwmbgGyua"
      },
      "source": [
        "# **Project Summary -**"
      ]
    },
    {
      "cell_type": "markdown",
      "metadata": {
        "id": "F6v_1wHtG2nS"
      },
      "source": [
        "Netflix Inc. is an American media company based in Los Gatos, California. Founded in 1997 by Reed Hastings and Marc Randolph in Scotts Valley, California, it operates the over-the-top subscription video on-demand service Netflix brand, which includes original films and television series commissioned or acquired by the company, and third-party content licensed from other distributors. (Wikipedia)\n",
        "\n",
        "This dataset consists of tv shows and movies available on Netflix. The dataset is collected from Flexible which is a third-party Netflix search engine. Netflix movies and TV shows clustering is a data analysis and machine learning technique that Netflix uses to group its content into similar categories. This technique involves analyzing the various characteristics of each title, such as genre, cast, and plot, and using algorithms to identify patterns and similarities. In essence, it's a set of algorithms using machine learning to analyze user data and movie ratings. To make it more effective, Netflix has set up 1,300 recommendation clusters based on users viewing preferences. Netflix's target market is young, tech-savvy users and anyone with digital connectivity. The audience of Netflix is from diverse age groups and demographics. However, most of the audience are teenagers, college-goers, entrepreneurs, working professionals, etc. Netflix's target consumers are divided into segments based on demographics, behavioural intents, and psychographic segmentation. Like most licensing agreements, the deal is structured in a traditional form, whereby Netflix pays for each film determined by rate cards on a sliding scale by each title's domestic or worldwide box office receipts. Netflix uses machine learning and algorithms to help break viewers' preconceived notions and find shows that they might not have initially chosen. To do this, it looks at nuanced threads within the content, rather than relying on broad genres to make its predictions."
      ]
    },
    {
      "cell_type": "markdown",
      "metadata": {
        "id": "w6K7xa23Elo4"
      },
      "source": [
        "# **GitHub Link -**"
      ]
    },
    {
      "cell_type": "markdown",
      "metadata": {
        "id": "h1o69JH3Eqqn"
      },
      "source": [
        "https://github.com/PawanYadav007s/Netflix-clustering-ML-Project"
      ]
    },
    {
      "cell_type": "markdown",
      "metadata": {
        "id": "yQaldy8SH6Dl"
      },
      "source": [
        "# **Problem Statement**\n"
      ]
    },
    {
      "cell_type": "markdown",
      "metadata": {
        "id": "xT2z8ZPp-yDC"
      },
      "source": [
        "![image.png](data:image/png;base64,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)"
      ]
    },
    {
      "cell_type": "markdown",
      "metadata": {
        "id": "XnOv5Czz-yDG"
      },
      "source": [
        "This dataset consists of tv shows and movies available on Netflix as of 2019. The dataset is collected from Flixable which is a third-party Netflix search engine.\n",
        "\n",
        "In 2018, they released an interesting report which shows that the number of TV shows on Netflix has nearly tripled since 2010. The streaming service’s number of movies has decreased by more than 2,000 titles since 2010, while its number of TV shows has nearly tripled. It will be interesting to explore what all other insights can be obtained from the same dataset.\n",
        "\n",
        "Integrating this dataset with other external datasets such as IMDB ratings, rotten tomatoes can also provide many interesting findings."
      ]
    },
    {
      "cell_type": "markdown",
      "metadata": {
        "id": "tLx5cJO8hzb1"
      },
      "source": [
        "## <b>Task\n",
        " <br>In this  project, you are required to do </b>\n",
        "1. Exploratory Data Analysis\n",
        "\n",
        "2. Understanding what type content is available in different countries\n",
        "\n",
        "3. Is Netflix has increasingly focusing on TV rather than movies in recent years.\n",
        "4. Clustering similar content by matching text-based features\n",
        "\n"
      ]
    },
    {
      "cell_type": "markdown",
      "metadata": {
        "id": "AzGDqdC4fZ-b"
      },
      "source": [
        "# **Attribute Information**"
      ]
    },
    {
      "cell_type": "markdown",
      "metadata": {
        "id": "jhfLYargscGV"
      },
      "source": [
        "1. show_id : Unique ID for every Movie / Tv Show\n",
        "\n",
        "2. type : Identifier - A Movie or TV Show\n",
        "\n",
        "3. title : Title of the Movie / Tv Show\n",
        "\n",
        "4. director : Director of the Movie\n",
        "\n",
        "5. cast : Actors involved in the movie / show\n",
        "\n",
        "6. country : Country where the movie / show was produced\n",
        "\n",
        "7. date_added : Date it was added on Netflix\n",
        "\n",
        "8. release_year : Actual Releaseyear of the movie / show\n",
        "\n",
        "9. rating : TV Rating of the movie / show\n",
        "\n",
        "10. duration : Total Duration - in minutes or number of seasons\n",
        "\n",
        "11. listed_in : Genere\n",
        "\n",
        "12. description: The Summary description"
      ]
    },
    {
      "cell_type": "markdown",
      "metadata": {
        "id": "Awi9BwN0cvQS"
      },
      "source": [
        "### Steps\n",
        "- Importing Libraries\n",
        "- Import Data\n",
        "- Data Summary\n",
        "- Data Visualization\n",
        "- Data Cleaning ( EDA )\n",
        "- Feature Selection\n",
        "- Model Selection\n",
        "- Hyperparameter Tuning\n",
        "- Conclusion\n"
      ]
    },
    {
      "cell_type": "markdown",
      "metadata": {
        "id": "mDgbUHAGgjLW"
      },
      "source": [
        "# **General Guidelines** : -  "
      ]
    },
    {
      "cell_type": "markdown",
      "metadata": {
        "id": "ZrxVaUj-hHfC"
      },
      "source": [
        "1.   Well-structured, formatted, and commented code is required.\n",
        "2.   Exception Handling, Production Grade Code & Deployment Ready Code will be a plus. Those students will be awarded some additional credits.\n",
        "     \n",
        "     The additional credits will have advantages over other students during Star Student selection.\n",
        "       \n",
        "             [ Note: - Deployment Ready Code is defined as, the whole .ipynb notebook should be executable in one go\n",
        "                       without a single error logged. ]\n",
        "\n",
        "3.   Each and every logic should have proper comments.\n",
        "4. You may add as many number of charts you want. Make Sure for each and every chart the following format should be answered.\n",
        "        \n",
        "\n",
        "```\n",
        "# Chart visualization code\n",
        "```\n",
        "            \n",
        "\n",
        "*   Why did you pick the specific chart?\n",
        "*   What is/are the insight(s) found from the chart?\n",
        "* Will the gained insights help creating a positive business impact?\n",
        "Are there any insights that lead to negative growth? Justify with specific reason.\n",
        "\n",
        "5. You have to create at least 15 logical & meaningful charts having important insights.\n",
        "\n",
        "\n",
        "[ Hints : - Do the Vizualization in  a structured way while following \"UBM\" Rule.\n",
        "\n",
        "U - Univariate Analysis,\n",
        "\n",
        "B - Bivariate Analysis (Numerical - Categorical, Numerical - Numerical, Categorical - Categorical)\n",
        "\n",
        "M - Multivariate Analysis\n",
        " ]\n",
        "\n",
        "\n",
        "\n",
        "\n",
        "\n",
        "6. You may add more ml algorithms for model creation. Make sure for each and every algorithm, the following format should be answered.\n",
        "\n",
        "\n",
        "*   Explain the ML Model used and it's performance using Evaluation metric Score Chart.\n",
        "\n",
        "\n",
        "*   Cross- Validation & Hyperparameter Tuning\n",
        "\n",
        "*   Have you seen any improvement? Note down the improvement with updates Evaluation metric Score Chart.\n",
        "\n",
        "*   Explain each evaluation metric's indication towards business and the business impact pf the ML model used.\n",
        "\n",
        "\n",
        "\n",
        "\n",
        "\n",
        "\n",
        "\n",
        "\n",
        "\n",
        "\n",
        "\n",
        "\n",
        "\n",
        "\n",
        "\n",
        "\n",
        "\n",
        "\n"
      ]
    },
    {
      "cell_type": "markdown",
      "metadata": {
        "id": "O_i_v8NEhb9l"
      },
      "source": [
        "# ***Let's Begin !***"
      ]
    },
    {
      "cell_type": "markdown",
      "metadata": {
        "id": "HhfV-JJviCcP"
      },
      "source": [
        "## ***1. Know Your Data***"
      ]
    },
    {
      "cell_type": "markdown",
      "metadata": {
        "id": "Y3lxredqlCYt"
      },
      "source": [
        "### Import Libraries"
      ]
    },
    {
      "cell_type": "code",
      "execution_count": null,
      "metadata": {
        "colab": {
          "base_uri": "https://localhost:8080/"
        },
        "id": "dByMsuzT8Tnw",
        "outputId": "5547b9e2-59d4-46ea-dbcc-2c645a4c2af1"
      },
      "outputs": [
        {
          "output_type": "stream",
          "name": "stdout",
          "text": [
            "Requirement already satisfied: xplotter in /usr/local/lib/python3.10/dist-packages (0.0.6)\n",
            "Requirement already satisfied: matplotlib in /usr/local/lib/python3.10/dist-packages (from xplotter) (3.7.1)\n",
            "Requirement already satisfied: pandas in /usr/local/lib/python3.10/dist-packages (from xplotter) (1.5.3)\n",
            "Requirement already satisfied: seaborn in /usr/local/lib/python3.10/dist-packages (from xplotter) (0.13.1)\n",
            "Requirement already satisfied: contourpy>=1.0.1 in /usr/local/lib/python3.10/dist-packages (from matplotlib->xplotter) (1.2.0)\n",
            "Requirement already satisfied: cycler>=0.10 in /usr/local/lib/python3.10/dist-packages (from matplotlib->xplotter) (0.12.1)\n",
            "Requirement already satisfied: fonttools>=4.22.0 in /usr/local/lib/python3.10/dist-packages (from matplotlib->xplotter) (4.50.0)\n",
            "Requirement already satisfied: kiwisolver>=1.0.1 in /usr/local/lib/python3.10/dist-packages (from matplotlib->xplotter) (1.4.5)\n",
            "Requirement already satisfied: numpy>=1.20 in /usr/local/lib/python3.10/dist-packages (from matplotlib->xplotter) (1.25.2)\n",
            "Requirement already satisfied: packaging>=20.0 in /usr/local/lib/python3.10/dist-packages (from matplotlib->xplotter) (24.0)\n",
            "Requirement already satisfied: pillow>=6.2.0 in /usr/local/lib/python3.10/dist-packages (from matplotlib->xplotter) (9.4.0)\n",
            "Requirement already satisfied: pyparsing>=2.3.1 in /usr/local/lib/python3.10/dist-packages (from matplotlib->xplotter) (3.1.2)\n",
            "Requirement already satisfied: python-dateutil>=2.7 in /usr/local/lib/python3.10/dist-packages (from matplotlib->xplotter) (2.8.2)\n",
            "Requirement already satisfied: pytz>=2020.1 in /usr/local/lib/python3.10/dist-packages (from pandas->xplotter) (2023.4)\n",
            "Requirement already satisfied: six>=1.5 in /usr/local/lib/python3.10/dist-packages (from python-dateutil>=2.7->matplotlib->xplotter) (1.16.0)\n"
          ]
        },
        {
          "output_type": "stream",
          "name": "stderr",
          "text": [
            "[nltk_data] Downloading package wordnet to /root/nltk_data...\n",
            "[nltk_data]   Package wordnet is already up-to-date!\n",
            "[nltk_data] Downloading package stopwords to /root/nltk_data...\n",
            "[nltk_data]   Package stopwords is already up-to-date!\n",
            "[nltk_data] Downloading package omw-1.4 to /root/nltk_data...\n",
            "[nltk_data]   Package omw-1.4 is already up-to-date!\n"
          ]
        }
      ],
      "source": [
        "# importing the required libraries\n",
        "\n",
        "!pip install xplotter\n",
        "import pandas as pd\n",
        "import numpy as np\n",
        "import matplotlib.pyplot as plt\n",
        "import seaborn as sns\n",
        "from datetime import datetime as dt\n",
        "\n",
        "import warnings\n",
        "warnings.filterwarnings('ignore')\n",
        "\n",
        "from wordcloud import WordCloud, STOPWORDS\n",
        "import re, string, unicodedata\n",
        "import nltk\n",
        "#import inflect\n",
        "from bs4 import BeautifulSoup\n",
        "from nltk import word_tokenize, sent_tokenize\n",
        "from nltk.corpus import stopwords\n",
        "from nltk.stem import LancasterStemmer, WordNetLemmatizer\n",
        "from sklearn.feature_extraction.text import TfidfVectorizer\n",
        "from sklearn.decomposition import PCA\n",
        "\n",
        "from nltk.stem import WordNetLemmatizer\n",
        "nltk.download('wordnet')\n",
        "import nltk\n",
        "nltk.download('stopwords')\n",
        "from nltk.corpus import stopwords\n",
        "import string\n",
        "string.punctuation\n",
        "nltk.download('omw-1.4')\n",
        "from nltk.tokenize import TweetTokenizer\n",
        "\n",
        "from sklearn.cluster import KMeans\n",
        "from sklearn.metrics import silhouette_score\n",
        "from sklearn.cluster import AgglomerativeClustering\n",
        "import scipy.cluster.hierarchy as shc\n",
        "\n",
        "from sklearn.feature_extraction.text import CountVectorizer\n",
        "from sklearn.metrics.pairwise import cosine_similarity\n",
        "\n",
        "%matplotlib inline\n",
        "sns.set()\n",
        "from xplotter.insights import *\n",
        "from xplotter.formatter import format_spines"
      ]
    },
    {
      "cell_type": "markdown",
      "metadata": {
        "id": "3RnN4peoiCZX"
      },
      "source": [
        "### Dataset Loading"
      ]
    },
    {
      "cell_type": "code",
      "execution_count": 2,
      "metadata": {
        "colab": {
          "base_uri": "https://localhost:8080/",
          "height": 375
        },
        "id": "4CkvbW_SlZ_R",
        "outputId": "a50bc8ee-248e-4546-89f5-33306d1d6940"
      },
      "outputs": [
        {
          "output_type": "error",
          "ename": "MessageError",
          "evalue": "Error: credential propagation was unsuccessful",
          "traceback": [
            "\u001b[0;31m---------------------------------------------------------------------------\u001b[0m",
            "\u001b[0;31mMessageError\u001b[0m                              Traceback (most recent call last)",
            "\u001b[0;32m<ipython-input-2-de22a3c8648f>\u001b[0m in \u001b[0;36m<cell line: 4>\u001b[0;34m()\u001b[0m\n\u001b[1;32m      2\u001b[0m \u001b[0;34m\u001b[0m\u001b[0m\n\u001b[1;32m      3\u001b[0m \u001b[0;32mfrom\u001b[0m \u001b[0mgoogle\u001b[0m\u001b[0;34m.\u001b[0m\u001b[0mcolab\u001b[0m \u001b[0;32mimport\u001b[0m \u001b[0mdrive\u001b[0m\u001b[0;34m\u001b[0m\u001b[0;34m\u001b[0m\u001b[0m\n\u001b[0;32m----> 4\u001b[0;31m \u001b[0mdrive\u001b[0m\u001b[0;34m.\u001b[0m\u001b[0mmount\u001b[0m\u001b[0;34m(\u001b[0m\u001b[0;34m'/content/drive'\u001b[0m\u001b[0;34m)\u001b[0m\u001b[0;34m\u001b[0m\u001b[0;34m\u001b[0m\u001b[0m\n\u001b[0m\u001b[1;32m      5\u001b[0m \u001b[0;34m\u001b[0m\u001b[0m\n\u001b[1;32m      6\u001b[0m \u001b[0mworking_path\u001b[0m \u001b[0;34m=\u001b[0m \u001b[0;34m\"/content/drive/MyDrive/NETFLIX MOVIES AND TV SHOWS CLUSTERING.csv\"\u001b[0m\u001b[0;34m\u001b[0m\u001b[0;34m\u001b[0m\u001b[0m\n",
            "\u001b[0;32m/usr/local/lib/python3.10/dist-packages/google/colab/drive.py\u001b[0m in \u001b[0;36mmount\u001b[0;34m(mountpoint, force_remount, timeout_ms, readonly)\u001b[0m\n\u001b[1;32m     98\u001b[0m \u001b[0;32mdef\u001b[0m \u001b[0mmount\u001b[0m\u001b[0;34m(\u001b[0m\u001b[0mmountpoint\u001b[0m\u001b[0;34m,\u001b[0m \u001b[0mforce_remount\u001b[0m\u001b[0;34m=\u001b[0m\u001b[0;32mFalse\u001b[0m\u001b[0;34m,\u001b[0m \u001b[0mtimeout_ms\u001b[0m\u001b[0;34m=\u001b[0m\u001b[0;36m120000\u001b[0m\u001b[0;34m,\u001b[0m \u001b[0mreadonly\u001b[0m\u001b[0;34m=\u001b[0m\u001b[0;32mFalse\u001b[0m\u001b[0;34m)\u001b[0m\u001b[0;34m:\u001b[0m\u001b[0;34m\u001b[0m\u001b[0;34m\u001b[0m\u001b[0m\n\u001b[1;32m     99\u001b[0m   \u001b[0;34m\"\"\"Mount your Google Drive at the specified mountpoint path.\"\"\"\u001b[0m\u001b[0;34m\u001b[0m\u001b[0;34m\u001b[0m\u001b[0m\n\u001b[0;32m--> 100\u001b[0;31m   return _mount(\n\u001b[0m\u001b[1;32m    101\u001b[0m       \u001b[0mmountpoint\u001b[0m\u001b[0;34m,\u001b[0m\u001b[0;34m\u001b[0m\u001b[0;34m\u001b[0m\u001b[0m\n\u001b[1;32m    102\u001b[0m       \u001b[0mforce_remount\u001b[0m\u001b[0;34m=\u001b[0m\u001b[0mforce_remount\u001b[0m\u001b[0;34m,\u001b[0m\u001b[0;34m\u001b[0m\u001b[0;34m\u001b[0m\u001b[0m\n",
            "\u001b[0;32m/usr/local/lib/python3.10/dist-packages/google/colab/drive.py\u001b[0m in \u001b[0;36m_mount\u001b[0;34m(mountpoint, force_remount, timeout_ms, ephemeral, readonly)\u001b[0m\n\u001b[1;32m    131\u001b[0m   )\n\u001b[1;32m    132\u001b[0m   \u001b[0;32mif\u001b[0m \u001b[0mephemeral\u001b[0m\u001b[0;34m:\u001b[0m\u001b[0;34m\u001b[0m\u001b[0;34m\u001b[0m\u001b[0m\n\u001b[0;32m--> 133\u001b[0;31m     _message.blocking_request(\n\u001b[0m\u001b[1;32m    134\u001b[0m         \u001b[0;34m'request_auth'\u001b[0m\u001b[0;34m,\u001b[0m \u001b[0mrequest\u001b[0m\u001b[0;34m=\u001b[0m\u001b[0;34m{\u001b[0m\u001b[0;34m'authType'\u001b[0m\u001b[0;34m:\u001b[0m \u001b[0;34m'dfs_ephemeral'\u001b[0m\u001b[0;34m}\u001b[0m\u001b[0;34m,\u001b[0m \u001b[0mtimeout_sec\u001b[0m\u001b[0;34m=\u001b[0m\u001b[0;32mNone\u001b[0m\u001b[0;34m\u001b[0m\u001b[0;34m\u001b[0m\u001b[0m\n\u001b[1;32m    135\u001b[0m     )\n",
            "\u001b[0;32m/usr/local/lib/python3.10/dist-packages/google/colab/_message.py\u001b[0m in \u001b[0;36mblocking_request\u001b[0;34m(request_type, request, timeout_sec, parent)\u001b[0m\n\u001b[1;32m    174\u001b[0m       \u001b[0mrequest_type\u001b[0m\u001b[0;34m,\u001b[0m \u001b[0mrequest\u001b[0m\u001b[0;34m,\u001b[0m \u001b[0mparent\u001b[0m\u001b[0;34m=\u001b[0m\u001b[0mparent\u001b[0m\u001b[0;34m,\u001b[0m \u001b[0mexpect_reply\u001b[0m\u001b[0;34m=\u001b[0m\u001b[0;32mTrue\u001b[0m\u001b[0;34m\u001b[0m\u001b[0;34m\u001b[0m\u001b[0m\n\u001b[1;32m    175\u001b[0m   )\n\u001b[0;32m--> 176\u001b[0;31m   \u001b[0;32mreturn\u001b[0m \u001b[0mread_reply_from_input\u001b[0m\u001b[0;34m(\u001b[0m\u001b[0mrequest_id\u001b[0m\u001b[0;34m,\u001b[0m \u001b[0mtimeout_sec\u001b[0m\u001b[0;34m)\u001b[0m\u001b[0;34m\u001b[0m\u001b[0;34m\u001b[0m\u001b[0m\n\u001b[0m",
            "\u001b[0;32m/usr/local/lib/python3.10/dist-packages/google/colab/_message.py\u001b[0m in \u001b[0;36mread_reply_from_input\u001b[0;34m(message_id, timeout_sec)\u001b[0m\n\u001b[1;32m    101\u001b[0m     ):\n\u001b[1;32m    102\u001b[0m       \u001b[0;32mif\u001b[0m \u001b[0;34m'error'\u001b[0m \u001b[0;32min\u001b[0m \u001b[0mreply\u001b[0m\u001b[0;34m:\u001b[0m\u001b[0;34m\u001b[0m\u001b[0;34m\u001b[0m\u001b[0m\n\u001b[0;32m--> 103\u001b[0;31m         \u001b[0;32mraise\u001b[0m \u001b[0mMessageError\u001b[0m\u001b[0;34m(\u001b[0m\u001b[0mreply\u001b[0m\u001b[0;34m[\u001b[0m\u001b[0;34m'error'\u001b[0m\u001b[0;34m]\u001b[0m\u001b[0;34m)\u001b[0m\u001b[0;34m\u001b[0m\u001b[0;34m\u001b[0m\u001b[0m\n\u001b[0m\u001b[1;32m    104\u001b[0m       \u001b[0;32mreturn\u001b[0m \u001b[0mreply\u001b[0m\u001b[0;34m.\u001b[0m\u001b[0mget\u001b[0m\u001b[0;34m(\u001b[0m\u001b[0;34m'data'\u001b[0m\u001b[0;34m,\u001b[0m \u001b[0;32mNone\u001b[0m\u001b[0;34m)\u001b[0m\u001b[0;34m\u001b[0m\u001b[0;34m\u001b[0m\u001b[0m\n\u001b[1;32m    105\u001b[0m \u001b[0;34m\u001b[0m\u001b[0m\n",
            "\u001b[0;31mMessageError\u001b[0m: Error: credential propagation was unsuccessful"
          ]
        }
      ],
      "source": [
        "# Load Dataset\n",
        "\n",
        "from google.colab import drive\n",
        "drive.mount('/content/drive')\n",
        "\n",
        "working_path = \"/content/drive/MyDrive/NETFLIX MOVIES AND TV SHOWS CLUSTERING.csv\"\n"
      ]
    },
    {
      "cell_type": "code",
      "execution_count": null,
      "metadata": {
        "id": "lsDsmGHzs-WC"
      },
      "outputs": [],
      "source": [
        "original_df = pd.read_csv(working_path,index_col='show_id')\n",
        "df = original_df.copy()"
      ]
    },
    {
      "cell_type": "markdown",
      "metadata": {
        "id": "H0kj-8xxnORC"
      },
      "source": [
        "### What did you know about your dataset?"
      ]
    },
    {
      "cell_type": "markdown",
      "metadata": {
        "id": "gfoNAAC-nUe_"
      },
      "source": [
        "This dataset consists of tv shows and movies available on Netflix as of 2019. The dataset is collected from Flixable which is a third-party Netflix search engine. In 2018, they released an interesting report which shows that the number of TV shows on Netflix has nearly tripled since 2010. The streaming service’s number of movies has decreased by more than 2,000 titles since 2010, while its number of TV shows has nearly tripled. It will be interesting to explore what all other insights can be obtained from the same dataset.\n",
        "\n",
        "Integrating this dataset with other external datasets such as IMDB ratings, rotten tomatoes can also provide many interesting findings."
      ]
    },
    {
      "cell_type": "code",
      "source": [
        "plot_donut_chart(df=df, col='type', colors=['dimgrey', 'crimson'],\n",
        "                 title='Does Netflix had more \\nMovies or TV Shows on 2019?')"
      ],
      "metadata": {
        "colab": {
          "base_uri": "https://localhost:8080/",
          "height": 700
        },
        "id": "SJtfmLviY4b6",
        "outputId": "47530c0e-1a8b-42ab-bf56-8dfdcb55013c"
      },
      "execution_count": null,
      "outputs": [
        {
          "output_type": "display_data",
          "data": {
            "text/plain": [
              "<Figure size 800x800 with 1 Axes>"
            ],
            "image/png": "[encoded data removed]"
          },
          "metadata": {}
        }
      ]
    },
    {
      "cell_type": "markdown",
      "source": [
        "It seems like Netflix has  more movies than TV shows in a percentage of 69% against 31% approximately. But this lends us to the next question: this behavior was always like that? For ansewaring this question we should have in hands information about previous years of Netflix catalog but, if we take a look at the date_added column, maybe we could make an evolution analysis on how the balance of movies and TV shows showed up for Netflix's customers."
      ],
      "metadata": {
        "id": "eOzKUJDzcxXZ"
      }
    },
    {
      "cell_type": "markdown",
      "metadata": {
        "id": "nA9Y7ga8ng1Z"
      },
      "source": [
        "## ***2. Understanding Your Variables***"
      ]
    },
    {
      "cell_type": "code",
      "execution_count": null,
      "metadata": {
        "id": "j7xfkqrt5Ag5"
      },
      "outputs": [],
      "source": [
        "# Dataset Columns\n",
        "df.columns"
      ]
    },
    {
      "cell_type": "markdown",
      "metadata": {
        "id": "JlHwYmJAmNHm"
      },
      "source": [
        "### Dataset Information"
      ]
    },
    {
      "cell_type": "code",
      "execution_count": null,
      "metadata": {
        "id": "cNyLbGldfChe"
      },
      "outputs": [],
      "source": [
        "# Dataset Info\n",
        "df.info(memory_usage = 'deep' )"
      ]
    },
    {
      "cell_type": "markdown",
      "metadata": {
        "id": "PBTbrJXOngz2"
      },
      "source": [
        "### Variables Description"
      ]
    },
    {
      "cell_type": "markdown",
      "metadata": {
        "id": "aJV4KIxSnxay"
      },
      "source": [
        "- show_id : Unique ID for every Movie / Tv Show\n",
        "- type : Identifier - A Movie or TV Show\n",
        "- title : Title of the Movie / Tv Show\n",
        "- director : Director of the Movie\n",
        "- cast : Actors involved in the movie / show\n",
        "- country : Country where the movie / show was produced\n",
        "- date_added : Date it was added on Netflix\n",
        "- release_year : Actual Releaseyear of the movie / show\n",
        "- rating : TV Rating of the movie / show\n",
        "- duration : Total Duration - in minutes or number of seasons\n",
        "- listed_in : Genre\n",
        "- description: The Summary description"
      ]
    },
    {
      "cell_type": "markdown",
      "metadata": {
        "id": "u3PMJOP6ngxN"
      },
      "source": [
        "### Check Unique Values for each variable."
      ]
    },
    {
      "cell_type": "code",
      "execution_count": null,
      "metadata": {
        "id": "D8NNhSAwvZ9G"
      },
      "outputs": [],
      "source": [
        "# Checking the unique values in each attribute of the dataset\n",
        "df.nunique()\n"
      ]
    },
    {
      "cell_type": "markdown",
      "metadata": {
        "id": "Jy-qeeq6vgl8"
      },
      "source": [
        "- The missing values in the director, cast, and country attributes can be replaced with 'Unknown'\n",
        "- 10 records with missing values in the date_added column can be dropped.\n",
        "- The missing values in rating can be imputed with its mode, since this attribute is discrete."
      ]
    },
    {
      "cell_type": "code",
      "execution_count": null,
      "metadata": {
        "id": "zms12Yq5n-jE"
      },
      "outputs": [],
      "source": [
        "# Check Unique Values for each variable.\n",
        "\n",
        "unique_values = df.nunique()\n",
        "print(unique_values)\n"
      ]
    },
    {
      "cell_type": "markdown",
      "metadata": {
        "id": "UwW_w4rjuiAi"
      },
      "source": [
        "number of unique values for each column in the dataset."
      ]
    },
    {
      "cell_type": "code",
      "execution_count": null,
      "metadata": {
        "id": "tUzquXbRuSBi"
      },
      "outputs": [],
      "source": [
        "for column in df.columns:\n",
        "  print(f\"Unique values in {column}:\")\n",
        "  print(df[column].unique())"
      ]
    },
    {
      "cell_type": "markdown",
      "metadata": {
        "id": "-maal5-Huajj"
      },
      "source": [
        "unique values for each column in the dataset."
      ]
    },
    {
      "cell_type": "markdown",
      "metadata": {
        "id": "x71ZqKXriCWQ"
      },
      "source": [
        "### Dataset First View"
      ]
    },
    {
      "cell_type": "code",
      "execution_count": null,
      "metadata": {
        "id": "LWNFOSvLl09H"
      },
      "outputs": [],
      "source": [
        "# Dataset First Look\n",
        "df.head()"
      ]
    },
    {
      "cell_type": "code",
      "execution_count": null,
      "metadata": {
        "id": "ENF8bLy-e2gJ"
      },
      "outputs": [],
      "source": [
        "df.shape"
      ]
    },
    {
      "cell_type": "markdown",
      "metadata": {
        "id": "Tacapl5kt0IC"
      },
      "source": [
        "The dataset contains 7787 records and 12 attributes.\n",
        "\n",
        "\n",
        "\n",
        "\n",
        "\n"
      ]
    },
    {
      "cell_type": "markdown",
      "metadata": {
        "id": "7hBIi_osiCS2"
      },
      "source": [
        "### Dataset Rows & Columns count"
      ]
    },
    {
      "cell_type": "code",
      "execution_count": null,
      "metadata": {
        "id": "Kllu7SJgmLij"
      },
      "outputs": [],
      "source": [
        "# Dataset Rows & Columns count\n",
        "num_rows = df.shape[0]\n",
        "num_cols = df.shape[1]\n",
        "\n",
        "print(\"Number of rows:\", num_rows)\n",
        "print(\"Number of columns:\", num_cols)"
      ]
    },
    {
      "cell_type": "markdown",
      "metadata": {
        "id": "2G4iJNZQhT5z"
      },
      "source": [
        "## ***3. Data Cleaning & Data Visualization***\n",
        "\n",
        "\n"
      ]
    },
    {
      "cell_type": "markdown",
      "metadata": {
        "id": "35m5QtbWiB9F"
      },
      "source": [
        "#### Duplicate Values"
      ]
    },
    {
      "cell_type": "code",
      "execution_count": null,
      "metadata": {
        "id": "1sLdpKYkmox0"
      },
      "outputs": [],
      "source": [
        "# Dataset Duplicate Value Count\n",
        "df.duplicated().count()\n"
      ]
    },
    {
      "cell_type": "code",
      "execution_count": null,
      "metadata": {
        "id": "5HMHfoMHgBdy"
      },
      "outputs": [],
      "source": [
        "# Checking duplicate values\n",
        "df_duplicate = df[df.duplicated()]\n",
        "print(\"Let's print all the duplicated rows as a dataframe\")\n",
        "df_duplicate"
      ]
    },
    {
      "cell_type": "markdown",
      "metadata": {
        "id": "u_Jt-JhOua2e"
      },
      "source": [
        "* No duplicate values present in this dataset."
      ]
    },
    {
      "cell_type": "markdown",
      "metadata": {
        "id": "PoPl-ycgm1ru"
      },
      "source": [
        "#### Missing Values/Null Values"
      ]
    },
    {
      "cell_type": "code",
      "execution_count": null,
      "metadata": {
        "id": "GgHWkxvamxVg"
      },
      "outputs": [],
      "source": [
        "# Missing Values/Null Values Count\n",
        "NaN_Checker = pd.DataFrame({\"No Of Total Values\": df.shape[0] , \"No of NaN values\": df.isnull().sum(),\n",
        "                    \"%age of NaN values\" : round((df.isnull().sum()/ df.shape[0])*100 , 2) })\n",
        "NaN_Checker.sort_values(\"No of NaN values\" , ascending = False)"
      ]
    },
    {
      "cell_type": "markdown",
      "metadata": {
        "id": "UPRpFufPesDH"
      },
      "source": [
        "* **director** *column has highest NaN values 30.7% data is missing*\n",
        "* **cast** *column has 9% NaN values*\n",
        "* **country , date_added , rating** this columns also containing missing values\n"
      ]
    },
    {
      "cell_type": "markdown",
      "metadata": {
        "id": "s6R7DGvUMV7L"
      },
      "source": [
        "* Ploting the null values present in the dataset\n"
      ]
    },
    {
      "cell_type": "code",
      "execution_count": null,
      "metadata": {
        "id": "td23uwLsBObe"
      },
      "outputs": [],
      "source": [
        "plot_nan = df.isna()\n",
        "plot_nan.head(2)"
      ]
    },
    {
      "cell_type": "code",
      "execution_count": null,
      "metadata": {
        "id": "3q5wnI3om9sJ"
      },
      "outputs": [],
      "source": [
        "# Visualizing the missing values\n",
        "# Checking Null Value by plotting Heatmap\n",
        "plt.figure(figsize=(10,5))\n",
        "sns.heatmap(df.isnull(), cbar=False)"
      ]
    },
    {
      "cell_type": "markdown",
      "metadata": {
        "id": "SKfxAIi0vQx1"
      },
      "source": [
        "There are many missing values in director, cast, country, date_added, and rating columns."
      ]
    },
    {
      "cell_type": "markdown",
      "metadata": {
        "id": "w03lW_pF_Mba"
      },
      "source": [
        "* Using barplot to check the no of NaN values present in this dataset"
      ]
    },
    {
      "cell_type": "code",
      "execution_count": null,
      "metadata": {
        "id": "Vs7GCjBLNDxj"
      },
      "outputs": [],
      "source": [
        "# null value distribution\n",
        "null_counts = df.isnull().sum()/len(df)\n",
        "plt.figure(figsize=(16,8))\n",
        "plt.xticks(np.arange(len(null_counts)),null_counts.index,rotation='vertical')\n",
        "plt.ylabel('fraction of rows with missing data')\n",
        "plt.bar(np.arange(len(null_counts)),null_counts)"
      ]
    },
    {
      "cell_type": "markdown",
      "metadata": {
        "id": "9EP5rb5Xv3za"
      },
      "source": [
        "# **Handling the missing**"
      ]
    },
    {
      "cell_type": "code",
      "execution_count": null,
      "metadata": {
        "id": "VctaC1dJv1vR"
      },
      "outputs": [],
      "source": [
        "# Handling the missing values\n",
        "df[['director','cast','country']] = df[['director','cast','country']].fillna('Unknown')\n",
        "df['rating'] = df['rating'] .fillna(df['rating'].mode()[0])\n",
        "df.dropna(axis=0, inplace = True)"
      ]
    },
    {
      "cell_type": "code",
      "execution_count": null,
      "metadata": {
        "id": "STP-susUx9HZ"
      },
      "outputs": [],
      "source": [
        "# Check for Nan values\n",
        "df.isnull().sum()"
      ]
    },
    {
      "cell_type": "code",
      "execution_count": null,
      "metadata": {
        "id": "pbt31H_MyHee"
      },
      "outputs": [],
      "source": [
        "df.shape"
      ]
    },
    {
      "cell_type": "markdown",
      "metadata": {
        "id": "dauF4eBmngu3"
      },
      "source": [
        "## 3. ***Data Wrangling***"
      ]
    },
    {
      "cell_type": "markdown",
      "metadata": {
        "id": "KShSvFckHn9W"
      },
      "source": [
        "### **Exploratory Data Analysis:**"
      ]
    },
    {
      "cell_type": "markdown",
      "metadata": {
        "id": "bKJF3rekwFvQ"
      },
      "source": [
        "### Data Wrangling Code"
      ]
    },
    {
      "cell_type": "markdown",
      "metadata": {
        "id": "dvI7SYhRy6vj"
      },
      "source": [
        "**Country, listed_in:**"
      ]
    },
    {
      "cell_type": "code",
      "execution_count": null,
      "metadata": {
        "id": "wnZzqnvny9gR"
      },
      "outputs": [],
      "source": [
        "# Top countries\n",
        "df.country.value_counts()"
      ]
    },
    {
      "cell_type": "code",
      "execution_count": null,
      "metadata": {
        "id": "Ct5IzGjFzC0a"
      },
      "outputs": [],
      "source": [
        "# Genre of shows\n",
        "df.listed_in.value_counts()"
      ]
    },
    {
      "cell_type": "markdown",
      "metadata": {
        "id": "x7uVCKGrzQau"
      },
      "source": [
        "- There are some movies / TV shows that were filmed in multiple countries, have multiple genres associated with it.\n",
        "- To simplify the analysis, let's consider only the primary country where that respective movie / TV show was filmed.\n",
        "- Also, let's consider only the primary genre of the respective movie / TV show."
      ]
    },
    {
      "cell_type": "code",
      "execution_count": null,
      "metadata": {
        "id": "wk-9a2fpoLcV"
      },
      "outputs": [],
      "source": [
        "# Choosing the primary country and primary genre to simplify the analysis\n",
        "df['country'] = df['country'].apply(lambda x: x.split(',')[0])\n",
        "df['listed_in'] = df['listed_in'].apply(lambda x: x.split(',')[0])"
      ]
    },
    {
      "cell_type": "code",
      "execution_count": null,
      "metadata": {
        "id": "9JhPIOp2zc_M"
      },
      "outputs": [],
      "source": [
        "# contry in which a movie was produced\n",
        "df.country.value_counts()"
      ]
    },
    {
      "cell_type": "code",
      "execution_count": null,
      "metadata": {
        "id": "q3luhK74zrC4"
      },
      "outputs": [],
      "source": [
        "# genre of shows\n",
        "df.listed_in.value_counts()"
      ]
    },
    {
      "cell_type": "markdown",
      "metadata": {
        "id": "-0_2_43C566X"
      },
      "source": [
        "**Typecasting 'duration' from string to integer**"
      ]
    },
    {
      "cell_type": "code",
      "execution_count": null,
      "metadata": {
        "id": "hOe8F2Fh5_NP"
      },
      "outputs": [],
      "source": [
        "# Splitting the duration column, and changing the datatype to integer\n",
        "df['duration'] = df['duration'].apply(lambda x: int(x.split()[0]))\n",
        "df['duration']"
      ]
    },
    {
      "cell_type": "code",
      "execution_count": null,
      "metadata": {
        "id": "HV-yfD7-6Y94"
      },
      "outputs": [],
      "source": [
        "# Number of seasons for tv shows\n",
        "df[df['type']=='TV Show'].duration.value_counts()"
      ]
    },
    {
      "cell_type": "code",
      "execution_count": null,
      "metadata": {
        "id": "sOB7p_o56lnY"
      },
      "outputs": [],
      "source": [
        "# Movie length in minutes\n",
        "df[df['type']=='Movie'].duration.unique()"
      ]
    },
    {
      "cell_type": "code",
      "execution_count": null,
      "metadata": {
        "id": "2p96yWEj6yZj"
      },
      "outputs": [],
      "source": [
        "# datatype of duration\n",
        "df.duration.dtype"
      ]
    },
    {
      "cell_type": "markdown",
      "metadata": {
        "id": "7tnhLadU62TL"
      },
      "source": [
        "We have successfully converted the datatype of duration column to int."
      ]
    },
    {
      "cell_type": "markdown",
      "metadata": {
        "id": "p9BbTjrt66Nc"
      },
      "source": [
        "**Typecasting 'date_added' from string to datetime:**"
      ]
    },
    {
      "cell_type": "code",
      "execution_count": null,
      "metadata": {
        "id": "m241HAdJ68I0"
      },
      "outputs": [],
      "source": [
        "# Typecasting 'date_added' from string to datetime\n",
        "df[\"date_added\"] = pd.to_datetime(df['date_added'])\n",
        "df[\"date_added\"]"
      ]
    },
    {
      "cell_type": "code",
      "execution_count": null,
      "metadata": {
        "id": "s5XbH_-n7Haw"
      },
      "outputs": [],
      "source": [
        "# first and last date on which a show was added on Netflix\n",
        "df.date_added.min(),df.date_added.max()"
      ]
    },
    {
      "cell_type": "markdown",
      "metadata": {
        "id": "x-D-QQPM7W37"
      },
      "source": [
        "**The shows were added on Netflix between 1st January 2008 and 16th January 2021.**"
      ]
    },
    {
      "cell_type": "code",
      "execution_count": null,
      "metadata": {
        "id": "NEjmf8Os7cMY"
      },
      "outputs": [],
      "source": [
        "# Adding new attributes month and year of date added\n",
        "\n",
        "df['month_added'] = df['date_added'].dt.month\n",
        "df['year_added'] = df['date_added'].dt.year\n",
        "df.drop('date_added', axis=1, inplace=True)"
      ]
    },
    {
      "cell_type": "markdown",
      "metadata": {
        "id": "3maE8qAF7ieJ"
      },
      "source": [
        "**Rating:**"
      ]
    },
    {
      "cell_type": "markdown",
      "metadata": {
        "id": "km_NhW5V7sIO"
      },
      "source": [
        "The ratings can be changed to age restrictions that apply on certain movies and TV shows."
      ]
    },
    {
      "cell_type": "code",
      "execution_count": null,
      "metadata": {
        "id": "Ptzxnh-Z7tu_"
      },
      "outputs": [],
      "source": [
        "\n",
        "\n",
        "plt.figure(figsize=(12, 6))  # Adjusting figure size\n",
        "sns.countplot(x='rating', data=df, palette='Set2')  # Using a different color palette\n",
        "plt.title('Distribution of Age Ratings for Shows')  # Adding a title\n",
        "plt.xlabel('Age Rating')  # Adding x-axis label\n",
        "plt.ylabel('Count')  # Adding y-axis label\n",
        "plt.xticks(rotation=45)  # Rotating x-axis labels for better readability\n",
        "plt.show()\n"
      ]
    },
    {
      "cell_type": "markdown",
      "metadata": {
        "id": "tLJqcBPL1bxp"
      },
      "source": [
        "**Highest number of shows on Netflix are rated by TV-MA, followed by TV-14 and TV-PG**"
      ]
    },
    {
      "cell_type": "code",
      "execution_count": null,
      "metadata": {
        "id": "tTEFapgfAHPG"
      },
      "outputs": [],
      "source": [
        "# Age ratings\n",
        "df.rating.unique()"
      ]
    },
    {
      "cell_type": "code",
      "execution_count": null,
      "metadata": {
        "id": "lF99X5Ki_81G"
      },
      "outputs": [],
      "source": [
        "# Changing the values in the rating column\n",
        "rating_map = {'TV-MA':'Adults',\n",
        "              'R':'Adults',\n",
        "              'PG-13':'Teens',\n",
        "              'TV-14':'Young Adults',\n",
        "              'TV-PG':'Older Kids',\n",
        "              'NR':'Adults',\n",
        "              'TV-G':'Kids',\n",
        "              'TV-Y':'Kids',\n",
        "              'TV-Y7':'Older Kids',\n",
        "              'PG':'Older Kids',\n",
        "              'G':'Kids',\n",
        "              'NC-17':'Adults',\n",
        "              'TV-Y7-FV':'Older Kids',\n",
        "              'UR':'Adults'}\n",
        "\n",
        "df['rating'].replace(rating_map, inplace = True)\n",
        "df['rating'].unique()"
      ]
    },
    {
      "cell_type": "code",
      "execution_count": null,
      "metadata": {
        "id": "soSWSFzp2YZC"
      },
      "outputs": [],
      "source": [
        "# Age ratings for shows in the dataset\n",
        "plt.figure(figsize=(12, 6))  # Adjusting figure size\n",
        "sns.countplot(x='rating', data=df, palette='Set2')  # Adding color palette\n",
        "plt.title('Age Ratings Distribution for Shows')  # Adding a title\n",
        "plt.xlabel('Age Rating')  # Adding x-axis label\n",
        "plt.ylabel('Frequency')  # Adding y-axis label\n",
        "plt.show()"
      ]
    },
    {
      "cell_type": "markdown",
      "metadata": {
        "id": "XstF0DwV2izf"
      },
      "source": [
        "**Around 50% of shows on Netflix are produced for adult audience. Followed by young adults, older kids and kids. Netflix has the least number of shows that are specifically produced for teenagers than other age groups.**"
      ]
    },
    {
      "cell_type": "markdown",
      "metadata": {
        "id": "Z_1czbpjIj3A"
      },
      "source": [
        "# **Categories**"
      ]
    },
    {
      "cell_type": "code",
      "execution_count": null,
      "metadata": {
        "id": "j-RQeXZJHf9F"
      },
      "outputs": [],
      "source": [
        "categories = \", \".join(df['listed_in']).split(\", \")\n",
        "categories[:5]"
      ]
    },
    {
      "cell_type": "code",
      "execution_count": null,
      "metadata": {
        "id": "TWTwZi66HlqR"
      },
      "outputs": [],
      "source": [
        "len(categories)"
      ]
    },
    {
      "cell_type": "code",
      "execution_count": null,
      "metadata": {
        "id": "mj50Q-aEHofO"
      },
      "outputs": [],
      "source": [
        "len(set(categories))"
      ]
    },
    {
      "cell_type": "markdown",
      "metadata": {
        "id": "4I5Eqcn5IFVb"
      },
      "source": [
        "There are **42 unique categories**  present & in this dataset **all the categories occured in total 17051 times**"
      ]
    },
    {
      "cell_type": "markdown",
      "metadata": {
        "id": "LHBTw8Q0N5ig"
      },
      "source": [
        "Creating a dictionary **( *category_wise_count* )** where for each category there will be a value which basically tells us how many times that particular category occured"
      ]
    },
    {
      "cell_type": "code",
      "execution_count": null,
      "metadata": {
        "id": "N-r1fsiPKCCA"
      },
      "outputs": [],
      "source": [
        "category_wise_count = {}\n",
        "for category in set(categories):\n",
        "  category_wise_count[category] = categories.count(category)"
      ]
    },
    {
      "cell_type": "code",
      "execution_count": null,
      "metadata": {
        "id": "XV4UUwNjKSRy"
      },
      "outputs": [],
      "source": [
        "category_wise_count"
      ]
    },
    {
      "cell_type": "markdown",
      "metadata": {
        "id": "x6drMdlZQprs"
      },
      "source": [
        "* Sorting *category_wise_count* by value"
      ]
    },
    {
      "cell_type": "code",
      "execution_count": null,
      "metadata": {
        "id": "1cUbkf8mRsTo"
      },
      "outputs": [],
      "source": [
        "sorted_category_wise_count = sorted(category_wise_count.items(), key=lambda x: x[1])\n",
        "sorted_category_wise_count[:4]"
      ]
    },
    {
      "cell_type": "markdown",
      "metadata": {
        "id": "GAWhjwjiTadC"
      },
      "source": [
        "* Top 5 least occurred category"
      ]
    },
    {
      "cell_type": "code",
      "execution_count": null,
      "metadata": {
        "id": "w2qi01MyTKu1"
      },
      "outputs": [],
      "source": [
        "sorted_category_wise_count[:5]"
      ]
    },
    {
      "cell_type": "markdown",
      "metadata": {
        "id": "CmrKf197TVjq"
      },
      "source": [
        "* Top 5 most occurred category"
      ]
    },
    {
      "cell_type": "code",
      "execution_count": null,
      "metadata": {
        "id": "ZBe-T_qGTN86"
      },
      "outputs": [],
      "source": [
        "sorted_category_wise_count[-5:]"
      ]
    },
    {
      "cell_type": "markdown",
      "metadata": {
        "id": "yO08y96NTy5A"
      },
      "source": [
        "* Top 10 most occurred categories"
      ]
    },
    {
      "cell_type": "code",
      "execution_count": null,
      "metadata": {
        "id": "_S04a0eXTeNP"
      },
      "outputs": [],
      "source": [
        "top_10_most_occurred_categories = sorted_category_wise_count[-10:]"
      ]
    },
    {
      "cell_type": "code",
      "execution_count": null,
      "metadata": {
        "id": "ON5u6i2lUEnu"
      },
      "outputs": [],
      "source": [
        "top_10_most_occurred_categories"
      ]
    },
    {
      "cell_type": "code",
      "execution_count": null,
      "metadata": {
        "id": "lj3-L_bMUEjW"
      },
      "outputs": [],
      "source": [
        "top_10_most_occurred_category_name = []\n",
        "top_10_most_occurred_category_count = []\n",
        "for tup in top_10_most_occurred_categories:\n",
        "  top_10_most_occurred_category_name.append(tup[0])\n",
        "  top_10_most_occurred_category_count.append(tup[1])"
      ]
    },
    {
      "cell_type": "code",
      "execution_count": null,
      "metadata": {
        "id": "OA73zfInUWDC"
      },
      "outputs": [],
      "source": [
        "top_10_most_occurred_category_name"
      ]
    },
    {
      "cell_type": "code",
      "execution_count": null,
      "metadata": {
        "id": "DvI5xZtyUbRa"
      },
      "outputs": [],
      "source": [
        "top_10_most_occurred_category_count"
      ]
    },
    {
      "cell_type": "markdown",
      "metadata": {
        "id": "YZ9t5ttoYg2s"
      },
      "source": [
        "# *TOP 10 Most Occurred Category By Count*"
      ]
    },
    {
      "cell_type": "code",
      "execution_count": null,
      "metadata": {
        "id": "TCvbG-6u5OgZ"
      },
      "outputs": [],
      "source": [
        "# % share of movies / tv shows by top 3 countries\n",
        "df.country.value_counts().nlargest(3).sum()/len(df)*100"
      ]
    },
    {
      "cell_type": "code",
      "execution_count": null,
      "metadata": {
        "id": "dd8V_4WZ4m53"
      },
      "outputs": [],
      "source": [
        "# % share of movies / tv shows by top 10 countries\n",
        "df.country.value_counts().nlargest(10).sum()/len(df)*100"
      ]
    },
    {
      "cell_type": "markdown",
      "metadata": {
        "id": "3F3cOq-b5p06"
      },
      "source": [
        "* **The top 3 countries together account for about 56% of all movies and TV shows in the dataset.**\n",
        "* **This value increases to about 78% for top ten countries.**"
      ]
    },
    {
      "cell_type": "markdown",
      "metadata": {
        "id": "GF8Ens_Soomf"
      },
      "source": [
        "## ***4. Data Vizualization, Storytelling & Experimenting with charts : Understand the relationships between variables***"
      ]
    },
    {
      "cell_type": "markdown",
      "metadata": {
        "id": "0wOQAZs5pc--"
      },
      "source": [
        "#### Chart - 1\n",
        "**Movies and TV Shows in the dataset**"
      ]
    },
    {
      "cell_type": "code",
      "execution_count": null,
      "metadata": {
        "id": "_rR75iLpIIAt"
      },
      "outputs": [],
      "source": [
        "# Number of Movies and TV Shows in the dataset\n",
        "plt.figure(figsize=(7,7))\n",
        "df.type.value_counts().plot(kind='pie',autopct='%1.2f%%')\n",
        "plt.ylabel('')\n",
        "plt.title('Movies and TV Shows in the dataset')"
      ]
    },
    {
      "cell_type": "markdown",
      "metadata": {
        "id": "K5QZ13OEpz2H"
      },
      "source": [
        "##### 1. Why did you pick the specific chart?\n",
        "\n",
        "\n"
      ]
    },
    {
      "cell_type": "markdown",
      "metadata": {
        "id": "XESiWehPqBRc"
      },
      "source": [
        "I picked the specific chart, the pie chart, because it effectively displays the distribution percentage of movies and TV shows. The circular nature of a pie chart allows for easy visualization of proportions, making it ideal for comparing relative sizes of different categories, such as the percentage of movies versus TV shows in your data. Additionally, the simplicity of a pie chart makes it easy for viewers to quickly grasp the distribution without being overwhelmed by complex visualizations."
      ]
    },
    {
      "cell_type": "markdown",
      "metadata": {
        "id": "lQ7QKXXCp7Bj"
      },
      "source": [
        "##### 2. What is/are the insight(s) found from the chart?"
      ]
    },
    {
      "cell_type": "markdown",
      "metadata": {
        "id": "RMjkZQj81eU4"
      },
      "source": [
        "* **There are more movies (69.14%) than TV shows (30.86%)  in the dataset.**"
      ]
    },
    {
      "cell_type": "markdown",
      "metadata": {
        "id": "448CDAPjqfQr"
      },
      "source": [
        "##### 3. Will the gained insights help creating a positive business impact?\n"
      ]
    },
    {
      "cell_type": "markdown",
      "metadata": {
        "id": "3cspy4FjqxJW"
      },
      "source": [
        "Targeted Marketing: This insight can inform targeted marketing strategies. For example, advertising campaigns can be tailored to promote the larger selection of movies, potentially attracting more subscribers or viewers interested in movie content."
      ]
    },
    {
      "cell_type": "markdown",
      "metadata": {
        "id": "KSlN3yHqYklG"
      },
      "source": [
        "#### Chart - 2\n",
        "**Top 10 Directors by Number of Shows Directed**"
      ]
    },
    {
      "cell_type": "code",
      "execution_count": null,
      "metadata": {
        "id": "WtT_yuXRY7zl"
      },
      "outputs": [],
      "source": [
        "# Top 10 directors in the dataset\n",
        "plt.figure(figsize=(12, 8))  # Adjusting figure size\n",
        "top_directors = df[~(df['director'] == 'Unknown')]['director'].value_counts().nlargest(10)\n",
        "top_directors.plot(kind='barh', color='skyblue')  # Adding color to bars\n",
        "plt.xlabel('Number of Shows Directed')  # Adding x-axis label\n",
        "plt.ylabel('Director')  # Adding y-axis label\n",
        "plt.title('Top 10 Directors by Number of Shows Directed')  # Adding title\n",
        "plt.gca().invert_yaxis()  # Invert y-axis to have the highest count at the top\n",
        "plt.show()"
      ]
    },
    {
      "cell_type": "markdown",
      "metadata": {
        "id": "da-PEL9HKOrN"
      },
      "source": [
        "##### 1. Why did you pick the specific chart?\n",
        "\n",
        "\n"
      ]
    },
    {
      "cell_type": "markdown",
      "metadata": {
        "id": "DTKD_Ai2KQ7o"
      },
      "source": [
        "I used bar chart to display the number of shows directed is a suitable choice for visualizing this type of data. Bar charts are effective for comparing quantities across different categories, making them ideal for showing the number of shows directed by each director."
      ]
    },
    {
      "cell_type": "markdown",
      "metadata": {
        "id": "ws8mFFhGKOrP"
      },
      "source": [
        "##### 2. What is/are the insight(s) found from the chart?"
      ]
    },
    {
      "cell_type": "markdown",
      "metadata": {
        "id": "WiYXxaEL1tIL"
      },
      "source": [
        "* **Raul Campos and Jan Suter together have directed 18 movies / TV shows, higher than anyone in the dataset.**"
      ]
    },
    {
      "cell_type": "markdown",
      "metadata": {
        "id": "EM7whBJCYoAo"
      },
      "source": [
        "#### Chart - 3\n",
        "\n",
        "**Top 10 Countries with the Highest Number of Shows**"
      ]
    },
    {
      "cell_type": "code",
      "execution_count": null,
      "metadata": {
        "id": "S3qvB0Ldfkh7"
      },
      "outputs": [],
      "source": [
        "# Top 10 countries with the highest number movies / TV shows in the dataset\n",
        "plt.figure(figsize=(12, 8))  # Adjusting figure size\n",
        "top_countries = df[~(df['country'] == 'Unknown')]['country'].value_counts().nlargest(10)\n",
        "top_countries.plot(kind='barh', color='skyblue')  # Plotting horizontal bar plot\n",
        "plt.xlabel('Number of Shows')  # Adding x-axis label\n",
        "plt.ylabel('Country')  # Adding y-axis label\n",
        "plt.title('Top 10 Countries with the Highest Number of Shows')  # Adding title\n",
        "plt.gca().invert_yaxis()  # Inverting y-axis to have the highest count at the top\n",
        "plt.show()"
      ]
    },
    {
      "cell_type": "markdown",
      "metadata": {
        "id": "fge-S5ZAYoAp"
      },
      "source": [
        "##### 1. Why did you pick the specific chart?"
      ]
    },
    {
      "cell_type": "markdown",
      "metadata": {
        "id": "5dBItgRVYoAp"
      },
      "source": [
        "By ranking the countries from highest to lowest number of shows, the bar chart provides a clear indication of the top performers. This makes it easy for viewers to identify the leading countries at a glance."
      ]
    },
    {
      "cell_type": "markdown",
      "metadata": {
        "id": "85gYPyotYoAp"
      },
      "source": [
        "##### 2. What is/are the insight(s) found from the chart?"
      ]
    },
    {
      "cell_type": "markdown",
      "metadata": {
        "id": "NWCkiRIr1_LZ"
      },
      "source": [
        "* **The highest number of movies / TV shows were based out of the US, followed by India and UK.**"
      ]
    },
    {
      "cell_type": "markdown",
      "metadata": {
        "id": "4Of9eVA-YrdM"
      },
      "source": [
        "#### Chart - 4\n",
        "**Number of shows on Netflix for different age groups**"
      ]
    },
    {
      "cell_type": "code",
      "execution_count": null,
      "metadata": {
        "id": "46nOEiNS7Ccv"
      },
      "outputs": [],
      "source": [
        "# Number of shows on Netflix for different age groups\n",
        "plt.figure(figsize=(10,5))\n",
        "df.rating.value_counts().plot(kind='barh')\n",
        "plt.title('Number of shows on Netflix for different age groups')"
      ]
    },
    {
      "cell_type": "markdown",
      "metadata": {
        "id": "iky9q4vBYrdO"
      },
      "source": [
        "##### 1. Why did you pick the specific chart?"
      ]
    },
    {
      "cell_type": "markdown",
      "metadata": {
        "id": "aJRCwT6DYrdO"
      },
      "source": [
        "\n",
        "Using a bar chart to display the number of shows on Netflix for different age groups is an effective choice for visualizing this type of data. Bar charts are particularly suitable for comparing numerical data across different categories, making them ideal for showcasing the distribution of shows across age groups."
      ]
    },
    {
      "cell_type": "markdown",
      "metadata": {
        "id": "F6T5p64dYrdO"
      },
      "source": [
        "##### 2. What is/are the insight(s) found from the chart?"
      ]
    },
    {
      "cell_type": "markdown",
      "metadata": {
        "id": "xHlnx7E28bIU"
      },
      "source": [
        "* **The majority of the shows on Netflix are catered to the needs of adult and young adult population.**"
      ]
    },
    {
      "cell_type": "markdown",
      "metadata": {
        "id": "bamQiAODYuh1"
      },
      "source": [
        "#### Chart - 5\n",
        "\n",
        "**Top 10 Most Popular Categories**"
      ]
    },
    {
      "cell_type": "code",
      "execution_count": null,
      "metadata": {
        "id": "IpQs0eVjKgxi"
      },
      "outputs": [],
      "source": [
        "plt.figure( figsize = (16,8))\n",
        "color=['lightpink', 'violet', 'green', 'blue', 'cyan' , \"lightblue\" ,'red', 'pink', 'yellow', 'orange']\n",
        "plt.barh(top_10_most_occurred_category_name , top_10_most_occurred_category_count ,\n",
        "        color= color)\n",
        "plt.title(\"Top 10 Most Popular Categories\",fontsize = 19)\n",
        "plt.xlabel(\"Count\", fontsize = 14 )\n",
        "plt.ylabel(\"Category Name\" , fontsize = 14 )\n",
        "plt.figure( figsize = (16,8))"
      ]
    },
    {
      "cell_type": "markdown",
      "metadata": {
        "id": "QHF8YVU7Yuh3"
      },
      "source": [
        "##### 1. Why did you pick the specific chart?"
      ]
    },
    {
      "cell_type": "markdown",
      "metadata": {
        "id": "dcxuIMRPYuh3"
      },
      "source": [
        "A bar chart allows for easy comparison of the number of shows across different categories. Viewers can quickly identify which categories have the highest number of shows and how they compare to each other."
      ]
    },
    {
      "cell_type": "markdown",
      "metadata": {
        "id": "GwzvFGzlYuh3"
      },
      "source": [
        "##### 2. What is/are the insight(s) found from the chart?"
      ]
    },
    {
      "cell_type": "markdown",
      "metadata": {
        "id": "xuQ6cLhD6vKU"
      },
      "source": [
        "* **The dramas is the most popular genre followed by comedies and documentaries.**\n",
        "* **These three genres account for about 41% of all movies and TV shows.**\n",
        "* **This value increases to about 82% for top 10 genres.**"
      ]
    },
    {
      "cell_type": "markdown",
      "metadata": {
        "id": "OH-pJp9IphqM"
      },
      "source": [
        "#### Chart - 6\n",
        "**distribution by released year**"
      ]
    },
    {
      "cell_type": "code",
      "execution_count": null,
      "metadata": {
        "id": "kuRf4wtuphqN"
      },
      "outputs": [],
      "source": [
        "# Chart - 6 visualization code\n",
        "plt.figure(figsize=(12, 8))  # Adjusting figure size\n",
        "sns.histplot(df['release_year'], bins=30, kde=True)  # Creating histogram\n",
        "plt.title('Distribution of Shows by Release Year')  # Adding title\n",
        "plt.xlabel('Release Year')  # Adding x-axis label\n",
        "plt.ylabel('Frequency')  # Adding y-axis label\n",
        "plt.show()"
      ]
    },
    {
      "cell_type": "markdown",
      "metadata": {
        "id": "bbFf2-_FphqN"
      },
      "source": [
        "##### 1. Why did you pick the specific chart?"
      ]
    },
    {
      "cell_type": "markdown",
      "metadata": {
        "id": "loh7H2nzphqN"
      },
      "source": [
        "By examining the shape of the histogram,We can quickly identify central tendencies such as peaks  of release years. This helps in understanding the most common periods for show releases."
      ]
    },
    {
      "cell_type": "markdown",
      "metadata": {
        "id": "_ouA3fa0phqN"
      },
      "source": [
        "##### 2. What is/are the insight(s) found from the chart?"
      ]
    },
    {
      "cell_type": "markdown",
      "metadata": {
        "id": "3Z7TO5ZJ6CIg"
      },
      "source": [
        "* **Netflix has greater number of new movies / TV shows than the old ones.**"
      ]
    },
    {
      "cell_type": "markdown",
      "metadata": {
        "id": "PIIx-8_IphqN"
      },
      "source": [
        "#### Chart - 7\n",
        "**Number of movies and TV shows added over the years**"
      ]
    },
    {
      "cell_type": "code",
      "execution_count": null,
      "metadata": {
        "id": "lqAIGUfyphqO"
      },
      "outputs": [],
      "source": [
        "# Chart - 7 visualization code\n",
        "\n",
        "plt.figure(figsize=(12, 8))  # Adjusting figure size\n",
        "p = sns.countplot(x='year_added', data=df, hue='type')  # Creating count plot\n",
        "plt.title('Number of Movies and TV Shows Added Over the Years')  # Adding title\n",
        "plt.xlabel('Year Added')  # Adding x-axis label\n",
        "plt.ylabel('Count')  # Adding y-axis label\n",
        "\n",
        "# Annotating each bar with the respective count\n",
        "for i in p.patches:\n",
        "    p.annotate(format(i.get_height(), '.0f'),\n",
        "               (i.get_x() + i.get_width() / 2., i.get_height()),\n",
        "               ha='center', va='center', xytext=(0, 10),\n",
        "               textcoords='offset points', fontsize=8)  # Adjusting annotation placement and size\n",
        "\n",
        "plt.show()"
      ]
    },
    {
      "cell_type": "markdown",
      "metadata": {
        "id": "t27r6nlMphqO"
      },
      "source": [
        "##### 1. Why did you pick the specific chart?"
      ]
    },
    {
      "cell_type": "markdown",
      "metadata": {
        "id": "iv6ro40sphqO"
      },
      "source": [
        "Using a bar chart to show the number of shows, movies, and TV shows added over the years is a suitable choice for visualizing this type of data. Bar charts are effective for comparing discrete categories (in this case, years) and their corresponding values (number of shows, movies, and TV shows)."
      ]
    },
    {
      "cell_type": "markdown",
      "metadata": {
        "id": "r2jJGEOYphqO"
      },
      "source": [
        "##### 2. What is/are the insight(s) found from the chart?"
      ]
    },
    {
      "cell_type": "markdown",
      "metadata": {
        "id": "Po6ZPi4hphqO"
      },
      "source": [
        "**In 2019, the maximum number of movies added on Netflix was 1497, while in 2020, the maximum number of TV shows added was 697.**"
      ]
    },
    {
      "cell_type": "markdown",
      "metadata": {
        "id": "BZR9WyysphqO"
      },
      "source": [
        "#### Chart - 8\n",
        "**Number of shows released each year since 2008 that are on Netflix**"
      ]
    },
    {
      "cell_type": "code",
      "execution_count": null,
      "metadata": {
        "id": "z6Je9s3X9GL2"
      },
      "outputs": [],
      "source": [
        "# Number of shows released each year since 2008\n",
        "order = range(2008,2022)\n",
        "plt.figure(figsize=(10,5))\n",
        "p = sns.countplot(x='release_year',data=df, hue='type',\n",
        "                  order = order)\n",
        "plt.title('Number of shows released each year since 2008 that are on Netflix')\n",
        "plt.xlabel('')\n",
        "for i in p.patches:\n",
        "  p.annotate(format(i.get_height(), '.0f'), (i.get_x() + i.get_width() / 2., i.get_height()), ha = 'center', va = 'center', xytext = (0, 10), textcoords = 'offset points')"
      ]
    },
    {
      "cell_type": "markdown",
      "metadata": {
        "id": "jj7wYXLtphqO"
      },
      "source": [
        "##### 1. Why did you pick the specific chart?"
      ]
    },
    {
      "cell_type": "markdown",
      "metadata": {
        "id": "Ob8u6rCTphqO"
      },
      "source": [
        "\n",
        "Using a bar chart to display the number of shows released each year since 2008 that are on Netflix is a suitable choice for visualizing this type of data.\n",
        "A bar chart allows for a clear visual comparison of the number of shows released each year. Each bar represents a specific year, making it easy to see trends over time."
      ]
    },
    {
      "cell_type": "markdown",
      "metadata": {
        "id": "eZrbJ2SmphqO"
      },
      "source": [
        "##### 2. What is/are the insight(s) found from the chart?"
      ]
    },
    {
      "cell_type": "markdown",
      "metadata": {
        "id": "Sg63WrsIvP3-"
      },
      "source": [
        "* **Over the years, Netflix has consistently focused on adding more shows in its platform.**\n",
        "* **Though there was a decrease in the number of movies added in 2020, this pattern did not exist in the number of TV shows added in the same year.**\n",
        "* **This might signal that Netflix is increasingly concentrating on introducing more TV series to its platform rather than movies.**"
      ]
    },
    {
      "cell_type": "markdown",
      "metadata": {
        "id": "YJ55k-q6phqO"
      },
      "source": [
        "#### Chart - 9\n",
        "**Number of Seasons per TV Show Distribution**"
      ]
    },
    {
      "cell_type": "code",
      "execution_count": null,
      "metadata": {
        "id": "B2aS4O1ophqO"
      },
      "outputs": [],
      "source": [
        "# Chart - 9 visualization code\n",
        "plt.figure(figsize=(12, 8))  # Adjusting figure size\n",
        "p = sns.countplot(x='duration', data=df[df['type']=='TV Show'])  # Creating count plot\n",
        "plt.title('Number of Seasons per TV Show Distribution')  # Adding title\n",
        "plt.xlabel('Number of Seasons')  # Adding x-axis label\n",
        "plt.ylabel('Count')  # Adding y-axis label\n",
        "\n",
        "# Annotating each bar with the respective count\n",
        "for i in p.patches:\n",
        "    p.annotate(format(i.get_height(), '.0f'),\n",
        "               (i.get_x() + i.get_width() / 2., i.get_height()),\n",
        "               ha='center', va='center', xytext=(0, 10),\n",
        "               textcoords='offset points', fontsize=8)  # Adjusting annotation placement and size\n",
        "\n",
        "plt.show()"
      ]
    },
    {
      "cell_type": "markdown",
      "metadata": {
        "id": "gCFgpxoyphqP"
      },
      "source": [
        "##### 1. Why did you pick the specific chart?"
      ]
    },
    {
      "cell_type": "markdown",
      "metadata": {
        "id": "TVxDimi2phqP"
      },
      "source": [
        "Using a bar chart to show the distribution of the number of seasons per TV show is a suitable choice for visualizing this type of data.\n",
        "A bar chart allows viewers to easily compare the number of seasons for each TV show. The length of each bar represents the number of seasons, providing a clear visual comparison between different TV shows."
      ]
    },
    {
      "cell_type": "markdown",
      "metadata": {
        "id": "OVtJsKN_phqQ"
      },
      "source": [
        "##### 2. What is/are the insight(s) found from the chart?"
      ]
    },
    {
      "cell_type": "markdown",
      "metadata": {
        "id": "UkWvlumyxBKO"
      },
      "source": [
        "* **The TV series in the dataset have up to 16 seasons, however the bulk of them only have one. This might mean that the majority of TV shows has only recently begun, and that further seasons are on the way.**\n",
        "* **There are very few TV shows that have more than 8 seasons.**"
      ]
    },
    {
      "cell_type": "markdown",
      "metadata": {
        "id": "U2RJ9gkRphqQ"
      },
      "source": [
        "#### Chart - 10\n",
        "**Average movie length over the years**"
      ]
    },
    {
      "cell_type": "code",
      "execution_count": null,
      "metadata": {
        "id": "GM7a4YP4phqQ"
      },
      "outputs": [],
      "source": [
        "# Chart - 10 visualization code\n",
        "plt.figure(figsize=(10,5))\n",
        "df[df['type']=='Movie'].groupby('release_year')['duration'].mean().plot(kind='line')\n",
        "plt.title('Average movie length over the years')\n",
        "plt.ylabel('Length of movie in minutes')\n",
        "plt.xlabel('Year')"
      ]
    },
    {
      "cell_type": "markdown",
      "metadata": {
        "id": "1M8mcRywphqQ"
      },
      "source": [
        "##### 1. Why did you pick the specific chart?"
      ]
    },
    {
      "cell_type": "markdown",
      "metadata": {
        "id": "8agQvks0phqQ"
      },
      "source": [
        "\n",
        "Using a line chart to display the average movie length over the years is an effective choice for visualizing trends and patterns in movie durations"
      ]
    },
    {
      "cell_type": "markdown",
      "metadata": {
        "id": "tgIPom80phqQ"
      },
      "source": [
        "##### 2. What is/are the insight(s) found from the chart?"
      ]
    },
    {
      "cell_type": "markdown",
      "metadata": {
        "id": "NL2cFNXB0eD_"
      },
      "source": [
        "* **Netflix has several movies on its site, including those that were released in way back 1942.**\n",
        "* **As per the plot, movies made in the 1940s had a fairly short duration on average.**\n",
        "* **On average, movies made in the 1960s have the longest movie length.**\n",
        "* **The average length of a movie has been continuously decreasing since the 2000s.**"
      ]
    },
    {
      "cell_type": "markdown",
      "metadata": {
        "id": "x-EpHcCOp1ci"
      },
      "source": [
        "#### Chart - 11\n",
        "**Top 10 genres for TV Shows**"
      ]
    },
    {
      "cell_type": "code",
      "execution_count": null,
      "metadata": {
        "id": "mAQTIvtqp1cj"
      },
      "outputs": [],
      "source": [
        "# Chart - 11 visualization code\n",
        "plt.figure(figsize=(10,5))\n",
        "df[df['type']=='TV Show'].listed_in.value_counts().nlargest(10).plot(kind='barh')\n",
        "plt.title('Top 10 genres for TV Shows')"
      ]
    },
    {
      "cell_type": "markdown",
      "metadata": {
        "id": "8zGJKyg5p1ck"
      },
      "source": [
        "##### 2. What is/are the insight(s) found from the chart?"
      ]
    },
    {
      "cell_type": "markdown",
      "metadata": {
        "id": "TR9YEOYVGsjp"
      },
      "source": [
        "* **International, crime, and kids are the most popular genre for TV shows on Netflix.**"
      ]
    },
    {
      "cell_type": "markdown",
      "metadata": {
        "id": "n3dbpmDWp1ck"
      },
      "source": [
        "#### Chart - 12\n",
        "**Top 10 TV show directors**"
      ]
    },
    {
      "cell_type": "code",
      "execution_count": null,
      "metadata": {
        "id": "bwevp1tKp1ck"
      },
      "outputs": [],
      "source": [
        "# Chart - 12 visualization code\n",
        "plt.figure(figsize=(12, 8))  # Adjusting figure size\n",
        "top_tv_directors = df[(df['director'] != 'Unknown') & (df['type'] == 'TV Show')]['director'].value_counts().nlargest(10)\n",
        "top_tv_directors.plot(kind='barh', color='skyblue')  # Plotting horizontal bar plot\n",
        "plt.title('Top 10 TV Show Directors')  # Adding title\n",
        "plt.xlabel('Number of TV Shows Directed')  # Adding x-axis label\n",
        "plt.ylabel('Director')  # Adding y-axis label\n",
        "plt.gca().invert_yaxis()  # Inverting y-axis to have the highest count at the top\n",
        "plt.show()"
      ]
    },
    {
      "cell_type": "markdown",
      "metadata": {
        "id": "ylSl6qgtp1ck"
      },
      "source": [
        "##### 1. Why did you pick the specific chart?"
      ]
    },
    {
      "cell_type": "markdown",
      "metadata": {
        "id": "m2xqNkiQp1ck"
      },
      "source": [
        "A bar chart is an effective way to visualize the top 10 TV show directors. It allows for easy comparison of the directors' contributions based on metrics like the number of shows directed or other relevant criteria."
      ]
    },
    {
      "cell_type": "markdown",
      "metadata": {
        "id": "ZWILFDl5p1ck"
      },
      "source": [
        "##### 2. What is/are the insight(s) found from the chart?"
      ]
    },
    {
      "cell_type": "markdown",
      "metadata": {
        "id": "skDn8M6rJgfA"
      },
      "source": [
        "* **Alastair Fothergill has directed three TV shows, the most of any director.**\n",
        "* **Only six directors have directed more than one television show.**"
      ]
    },
    {
      "cell_type": "markdown",
      "metadata": {
        "id": "Ag9LCva-p1cl"
      },
      "source": [
        "#### Chart - 13\n",
        "**Actors Who Have Appeared in the Highest Number of TV Shows**"
      ]
    },
    {
      "cell_type": "code",
      "execution_count": null,
      "metadata": {
        "id": "EUfxeq9-p1cl"
      },
      "outputs": [],
      "source": [
        "# Chart - 13 visualization code\n",
        "plt.figure(figsize=(12, 8))  # Adjusting figure size\n",
        "top_tv_actors = df[(df['cast'] != 'Unknown') & (df['type'] == 'TV Show')]['cast'].value_counts().nlargest(10)\n",
        "top_tv_actors.plot(kind='barh', color='skyblue')  # Plotting horizontal bar plot\n",
        "plt.title('Actors Who Have Appeared in the Highest Number of TV Shows')  # Adding title\n",
        "plt.xlabel('Number of TV Shows')  # Adding x-axis label\n",
        "plt.ylabel('Actor')  # Adding y-axis label\n",
        "plt.gca().invert_yaxis()  # Inverting y-axis to have the highest count at the top\n",
        "\n",
        "# Annotating each bar with the respective count\n",
        "for index, value in enumerate(top_tv_actors):\n",
        "    plt.text(value, index, str(value), ha='left', va='center', fontsize=10)  # Adjusting annotation placement and size\n",
        "\n",
        "plt.show()"
      ]
    },
    {
      "cell_type": "markdown",
      "metadata": {
        "id": "E6MkPsBcp1cl"
      },
      "source": [
        "##### 1. Why did you pick the specific chart?"
      ]
    },
    {
      "cell_type": "markdown",
      "metadata": {
        "id": "V22bRsFWp1cl"
      },
      "source": [
        "Using a bar chart to display actors who have appeared in the highest number of TV shows is a suitable choice. Bar charts are effective for comparing the frequency or quantity of different categories, making them ideal for showcasing which actors have the most appearances in TV shows"
      ]
    },
    {
      "cell_type": "markdown",
      "metadata": {
        "id": "2cELzS2fp1cl"
      },
      "source": [
        "##### 2. What is/are the insight(s) found from the chart?"
      ]
    },
    {
      "cell_type": "markdown",
      "metadata": {
        "id": "Q42mP5vjMHpq"
      },
      "source": [
        "* **David Attenborough has appeared in 13 TV shows, followed by Michela Luci, Jamie Watson, Anna Claire Bartlam, Dante Zee, Eric Peterson with 4 TV shows.**"
      ]
    },
    {
      "cell_type": "markdown",
      "metadata": {
        "id": "NC_X3p0fY2L0"
      },
      "source": [
        "#### Chart - 14 - Correlation Heatmap"
      ]
    },
    {
      "cell_type": "code",
      "execution_count": null,
      "metadata": {
        "id": "D3gDiLDKdt0z"
      },
      "outputs": [],
      "source": [
        "# Correlation Heatmap visualization code\n",
        "#Assigning the Ratings into grouped categories\n",
        "ratings = {\n",
        "    'TV-PG': 'Older Kids',\n",
        "    'TV-MA': 'Adults',\n",
        "    'TV-Y7-FV': 'Older Kids',\n",
        "    'TV-Y7': 'Older Kids',\n",
        "    'TV-14': 'Teens',\n",
        "    'R': 'Adults',\n",
        "    'TV-Y': 'Kids',\n",
        "    'NR': 'Adults',\n",
        "    'PG-13': 'Teens',\n",
        "    'TV-G': 'Kids',\n",
        "    'PG': 'Older Kids',\n",
        "    'G': 'Kids',\n",
        "    'UR': 'Adults',\n",
        "    'NC-17': 'Adults'\n",
        "}\n",
        "df['target_ages'] = df['rating'].replace(ratings)\n",
        "\n"
      ]
    },
    {
      "cell_type": "code",
      "execution_count": null,
      "metadata": {
        "id": "t4TJobS_dV5z"
      },
      "outputs": [],
      "source": [
        "# Preparing data for heatmap\n",
        "\n",
        "# Preparing data for heatmap\n",
        "df['count'] = 1\n",
        "data =df.groupby('country')[['country','count']].sum().sort_values(by='count',ascending=False).reset_index()[:10]\n",
        "data = data['country']\n",
        "\n",
        "\n",
        "df_heatmap = df.loc[df['country'].isin(data)]\n",
        "df_heatmap = pd.crosstab(df_heatmap['country'],df_heatmap['target_ages'],normalize = \"index\").T\n",
        "df_heatmap"
      ]
    },
    {
      "cell_type": "code",
      "execution_count": null,
      "metadata": {
        "id": "xyC9zolEZNRQ"
      },
      "outputs": [],
      "source": [
        "# Correlation Heatmap visualization code\n",
        "fig, ax = plt.subplots(1, 1, figsize=(12, 12))\n",
        "\n",
        "country_order2 = ['United States', 'India', 'United Kingdom', 'Canada', 'Japan', 'France', 'South Korea', 'Spain', 'Mexico']\n",
        "age_order = ['Adults', 'Teens', 'Older Kids', 'Kids']\n",
        "\n",
        "sns.heatmap(data=df_heatmap.loc[age_order, country_order2],\n",
        "            cmap='YlGnBu',\n",
        "            square=True,\n",
        "            linewidth=2.5,\n",
        "            cbar=False,\n",
        "            annot=True,\n",
        "            fmt='1.0%',\n",
        "            vmax=.6,\n",
        "            vmin=0.05,\n",
        "            ax=ax,\n",
        "            annot_kws={\"fontsize\": 12})\n",
        "plt.show()"
      ]
    },
    {
      "cell_type": "markdown",
      "metadata": {
        "id": "ys9RyouJe2dM"
      },
      "source": [
        "##### 1. Why did you pick the specific chart?"
      ]
    },
    {
      "cell_type": "markdown",
      "metadata": {
        "id": "8-4AotV1e2dO"
      },
      "source": [
        "A heatmap is a suitable choice when visualizing the relationships between two categorical variables, in this case, countries and age groups. It allows for a clear representation of patterns, trends, and comparisons across different categories."
      ]
    },
    {
      "cell_type": "markdown",
      "metadata": {
        "id": "57AMXHMae2dP"
      },
      "source": [
        "##### 2. What is/are the insight(s) found from the chart?"
      ]
    },
    {
      "cell_type": "markdown",
      "metadata": {
        "id": "A1ylhAAme2dQ"
      },
      "source": [
        "In summary, the data provided suggests that the level of interest in the subject varies across different countries and target age groups. Here are the overall conclusions:\n",
        "\n",
        "Among the countries listed, Spain stands out with the highest percentage of adults showing interest at 80%. This indicates a strong interest in the subject among adults in Spain.\n",
        "\n",
        "1.France- Follows closely with 63% of adults expressing interest, demonstrating a significant level of engagement in the subject.\n",
        "\n",
        "\n",
        "2.United Kingdom -It has a relatively high level of interest among adults, with 53% expressing interest.\n",
        "\n",
        "4.Mexico-Here ,also demonstrates a substantial level of interest, with 77% of adults showing interest in the subject.\n",
        "\n",
        "5.South Korea , United States- Both have 46% of adults showing interest, indicating a moderate level of engagement in these countries.\n",
        "\n",
        "6.Japan- It shows a moderate level of interest among both adults and teens, with 37% of each group expressing interest.\n",
        "\n",
        "7.Canada- It has percentage of interest among the listed countries, with 47% of adults showing interest.\n",
        "\n",
        "Overall, these conclusions highlight the varying levels of interest in the subject among different countries and target age groups. The data indicates that Spain, France, India, and Mexico have higher levels of interest in the adults, while Canada has relatively lower interest compared to the other countries."
      ]
    },
    {
      "cell_type": "markdown",
      "metadata": {
        "id": "g-ATYxFrGrvw"
      },
      "source": [
        "## ***5. Hypothesis Testing***"
      ]
    },
    {
      "cell_type": "code",
      "execution_count": null,
      "metadata": {
        "id": "C7fKMOJtgjP4"
      },
      "outputs": [],
      "source": [
        "\n",
        "#making copy of df_clean_frame\n",
        "netflix_hypothesis=df.copy()\n",
        "#head of df_hypothesis\n",
        "netflix_hypothesis.head()"
      ]
    },
    {
      "cell_type": "code",
      "execution_count": null,
      "metadata": {
        "id": "wbbgAwhEgr19"
      },
      "outputs": [],
      "source": [
        "\n",
        "#filtering movie from Type_of_show column\n",
        "netflix_hypothesis = netflix_hypothesis[netflix_hypothesis[\"type\"] == \"Movie\"]"
      ]
    },
    {
      "cell_type": "code",
      "execution_count": null,
      "metadata": {
        "id": "wPLnOB9lgv0U"
      },
      "outputs": [],
      "source": [
        "\n",
        "#with respect to each ratings assigning it into group of categories\n",
        "ratings_ages = {\n",
        "    'TV-PG': 'Older Kids',\n",
        "    'TV-MA': 'Adults',\n",
        "    'TV-Y7-FV': 'Older Kids',\n",
        "    'TV-Y7': 'Older Kids',\n",
        "    'TV-14': 'Teens',\n",
        "    'R': 'Adults',\n",
        "    'TV-Y': 'Kids',\n",
        "    'NR': 'Adults',\n",
        "    'PG-13': 'Teens',\n",
        "    'TV-G': 'Kids',\n",
        "    'PG': 'Older Kids',\n",
        "    'G': 'Kids',\n",
        "    'UR': 'Adults',\n",
        "    'NC-17': 'Adults'\n",
        "}\n",
        "\n",
        "netflix_hypothesis['target_ages'] = netflix_hypothesis['rating'].replace(ratings_ages)\n",
        "#let's see unique target ages\n",
        "netflix_hypothesis['target_ages'].unique()"
      ]
    },
    {
      "cell_type": "code",
      "execution_count": null,
      "metadata": {
        "id": "y_BhV8Ewg0Zk"
      },
      "outputs": [],
      "source": [
        "\n",
        "netflix_hypothesis['target_ages'] = pd.Categorical(netflix_hypothesis['target_ages'], categories=['Kids', 'Older Kids', 'Teens', 'Adults'])\n",
        "\n",
        "netflix_hypothesis['duration'] = netflix_hypothesis['duration'].astype(str)  # Convert to string type\n",
        "netflix_hypothesis['duration'] = netflix_hypothesis['duration'].str.extract('(\\d+)')\n",
        "netflix_hypothesis['duration'] = pd.to_numeric(netflix_hypothesis['duration'])\n",
        "\n",
        "netflix_hypothesis.head(3)\n"
      ]
    },
    {
      "cell_type": "code",
      "execution_count": null,
      "metadata": {
        "id": "l23Jwfyog7-O"
      },
      "outputs": [],
      "source": [
        "\n",
        "#group_by duration and target_ages\n",
        "group_by_= netflix_hypothesis[['duration','target_ages']].groupby(by='target_ages')\n",
        "#mean of group_by variable\n",
        "group=group_by_.mean().reset_index()\n",
        "group\n"
      ]
    },
    {
      "cell_type": "code",
      "execution_count": null,
      "metadata": {
        "id": "6p2-uQ7zg_US"
      },
      "outputs": [],
      "source": [
        "\n",
        "#In A and B variable grouping values\n",
        "A= group_by_.get_group('Kids')\n",
        "B= group_by_.get_group('Older Kids')\n",
        "#mean and std. calutation for kids and older kids variables\n",
        "M1 = A.mean()\n",
        "S1 = A.std()\n",
        "\n",
        "M2= B.mean()\n",
        "S2 = B.std()\n",
        "\n",
        "print('Mean for movies rated for Kids {} \\n Mean for  movies rated for older kids {}'.format(M1,M2))\n",
        "print('Std for  movies rated for Older Kids {} \\n Std for  movies rated for kids {}'.format(S2,S1))"
      ]
    },
    {
      "cell_type": "code",
      "execution_count": null,
      "metadata": {
        "id": "8IOU4VJrhM0T"
      },
      "outputs": [],
      "source": [
        "\n",
        "#import stats\n",
        "from scipy import stats\n",
        "#length of groups and DOF\n",
        "n1 = len(A)\n",
        "n2= len(B)\n",
        "print(n1,n2)\n",
        "\n",
        "dof = n1+n2-2\n",
        "print('dof',dof)\n",
        "\n",
        "sp_2 = ((n2-1)*S1**2  + (n1-1)*S2**2) / dof\n",
        "print('SP_2 =',sp_2)\n",
        "\n",
        "sp = np.sqrt(sp_2)\n",
        "print('SP',sp)\n",
        "\n",
        "#tvalue\n",
        "t_val = (M1-M2)/(sp * np.sqrt(1/n1 + 1/n2))\n",
        "print('tvalue',t_val[0])"
      ]
    },
    {
      "cell_type": "code",
      "execution_count": null,
      "metadata": {
        "id": "f4e_Q-jGhWPs"
      },
      "outputs": [],
      "source": [
        "\n",
        "#t-distribution\n",
        "stats.t.ppf(0.025,dof)"
      ]
    },
    {
      "cell_type": "code",
      "execution_count": null,
      "metadata": {
        "id": "VwHJY56WhYbN"
      },
      "outputs": [],
      "source": [
        "\n",
        "#t-distribution\n",
        "stats.t.ppf(0.975,dof)"
      ]
    },
    {
      "cell_type": "markdown",
      "metadata": {
        "id": "Yfr_Vlr8HBkt"
      },
      "source": [
        "### Based on your chart experiments, define three hypothetical statements from the dataset. In the next three questions, perform hypothesis testing to obtain final conclusion about the statements through your code and statistical testing."
      ]
    },
    {
      "cell_type": "markdown",
      "metadata": {
        "id": "8yEUt7NnHlrM"
      },
      "source": [
        "### Hypothetical Statement - 1"
      ]
    },
    {
      "cell_type": "markdown",
      "metadata": {
        "id": "tEA2Xm5dHt1r"
      },
      "source": [
        "#### 1. State Your research hypothesis as a null hypothesis and alternate hypothesis."
      ]
    },
    {
      "cell_type": "markdown",
      "metadata": {
        "id": "HI9ZP0laH0D-"
      },
      "source": [
        "**HO:Movies rated for kids and older kids are at least two hours long.(Null Hypothesis)**\n",
        "\n",
        "**H1:Movies rated for kids and older kids are not at least two hours long.(Alternate Hypothesis)**"
      ]
    },
    {
      "cell_type": "markdown",
      "metadata": {
        "id": "I79__PHVH19G"
      },
      "source": [
        "#### 2. Perform an appropriate statistical test."
      ]
    },
    {
      "cell_type": "code",
      "execution_count": null,
      "metadata": {
        "id": "oZrfquKtyian"
      },
      "outputs": [],
      "source": [
        "# Perform Statistical Test to obtain P-Value\n",
        "#t-distribution\n",
        "stats.t.ppf(0.025,dof)"
      ]
    },
    {
      "cell_type": "code",
      "execution_count": null,
      "metadata": {
        "id": "zlqyjT0Zh4uL"
      },
      "outputs": [],
      "source": [
        "\n",
        "#t-distribution\n",
        "stats.t.ppf(0.975,dof)"
      ]
    },
    {
      "cell_type": "markdown",
      "metadata": {
        "id": "s2U0kk00ygSB"
      },
      "source": [
        "**t-value is not in the range, the null hypothesis is rejected.**\n",
        "\n",
        "**As a result, movies rated for kids and older kids are not at least two hours long.**"
      ]
    },
    {
      "cell_type": "markdown",
      "metadata": {
        "id": "fF3858GYyt-u"
      },
      "source": [
        "##### Why did you choose the specific statistical test?"
      ]
    },
    {
      "cell_type": "markdown",
      "metadata": {
        "id": "4_0_7-oCpUZd"
      },
      "source": [
        "### Hypothetical Statement - 2"
      ]
    },
    {
      "cell_type": "markdown",
      "metadata": {
        "id": "hwyV_J3ipUZe"
      },
      "source": [
        "#### 1. State Your research hypothesis as a null hypothesis."
      ]
    },
    {
      "cell_type": "markdown",
      "metadata": {
        "id": "HO4K0gP5y3B4"
      },
      "source": [
        "H1:The duration which is more than 90 mins are movies\n",
        "\n",
        "HO:The duration which is more than 90 mins are NOT movies"
      ]
    },
    {
      "cell_type": "code",
      "execution_count": null,
      "metadata": {
        "id": "JOvZc-HOmqiq"
      },
      "outputs": [],
      "source": [
        "\n",
        "#making copy of df_clean_frame\n",
        "netflix_hypothesis=df.copy()\n",
        "#head of df_hypothesis\n",
        "netflix_hypothesis.head()"
      ]
    },
    {
      "cell_type": "code",
      "execution_count": null,
      "metadata": {
        "id": "mSf_gaJam0da"
      },
      "outputs": [],
      "source": [
        "print(netflix_hypothesis['duration'].dtype)\n"
      ]
    },
    {
      "cell_type": "code",
      "execution_count": null,
      "metadata": {
        "id": "OLJGqKBBnOHw"
      },
      "outputs": [],
      "source": [
        "netflix_hypothesis['duration'] = netflix_hypothesis['duration'].astype('str')\n"
      ]
    },
    {
      "cell_type": "code",
      "execution_count": null,
      "metadata": {
        "id": "5lEpzYPKnQ_q"
      },
      "outputs": [],
      "source": [
        "netflix_hypothesis['duration']= netflix_hypothesis['duration'].str.extract('(\\d+)')\n",
        "netflix_hypothesis['duration'] = pd.to_numeric(netflix_hypothesis['duration'])"
      ]
    },
    {
      "cell_type": "code",
      "execution_count": null,
      "metadata": {
        "id": "v6rmnImRnjA9"
      },
      "outputs": [],
      "source": [
        "\n",
        "netflix_hypothesis['type'] = pd.Categorical(netflix_hypothesis['type'], categories=['Movie','TV Show'])\n",
        "#from duration feature extractin string part and after extracting Changing the object type to numeric\n",
        "#df_hypothesis['duration']= df_hypothesis['duration'].str.extract('(\\d+)')\n",
        "#df_hypothesis['duration'] = pd.to_numeric(df_hypothesis['duration'])\n",
        "#head of df_\n",
        "netflix_hypothesis.head(3)"
      ]
    },
    {
      "cell_type": "code",
      "execution_count": null,
      "metadata": {
        "id": "aaCND33Pnn6k"
      },
      "outputs": [],
      "source": [
        "\n",
        "netflix_hypothesis['type'] = pd.Categorical(netflix_hypothesis['type'], categories=['Movie','TV Show'])"
      ]
    },
    {
      "cell_type": "code",
      "execution_count": null,
      "metadata": {
        "id": "3pjL0l1znsxS"
      },
      "outputs": [],
      "source": [
        "\n",
        "# Perform Statistical Test to obtain P-Value\n",
        "#group_by duration and TYPE\n",
        "group_by_= netflix_hypothesis[['duration','type']].groupby(by='type')\n",
        "#mean of group_by variable\n",
        "group1=group_by_.mean().reset_index()\n",
        "group1"
      ]
    },
    {
      "cell_type": "code",
      "execution_count": null,
      "metadata": {
        "id": "HjoeaaI3nxeb"
      },
      "outputs": [],
      "source": [
        "#In A and B variable grouping values\n",
        "A= group_by_.get_group('Movie')\n",
        "B= group_by_.get_group('TV Show')\n",
        "#mean and std\n",
        "M1 = A.mean()\n",
        "S1 = A.std()\n",
        "\n",
        "M2= B.mean()\n",
        "S2 = B.std()\n",
        "\n",
        "print('Mean  {}'.format(M1,M2))\n",
        "print('Std  {}'.format(S2,S1))"
      ]
    },
    {
      "cell_type": "code",
      "execution_count": null,
      "metadata": {
        "id": "3u4TwdH7n2ur"
      },
      "outputs": [],
      "source": [
        "\n",
        "#import stats\n",
        "from scipy import stats\n",
        "#length of groups and DOF\n",
        "n1 = len(A)\n",
        "n2= len(B)\n",
        "print(n1,n2)\n",
        "\n",
        "dof = n1+n2-2\n",
        "print('dof',dof)\n",
        "\n",
        "sp_2 = ((n2-1)*S1**2  + (n1-1)*S2**2) / dof\n",
        "print('SP_2 =',sp_2)\n",
        "\n",
        "sp = np.sqrt(sp_2)\n",
        "print('SP',sp)\n",
        "\n",
        "#tvalue\n",
        "t_val = (M1-M2)/(sp * np.sqrt(1/n1 + 1/n2))\n",
        "print('tvalue',t_val[0])"
      ]
    },
    {
      "cell_type": "markdown",
      "metadata": {
        "id": "dEUvejAfpUZe"
      },
      "source": [
        "##### Which statistical test have you done to obtain P-Value?"
      ]
    },
    {
      "cell_type": "markdown",
      "metadata": {
        "id": "oLDrPz7HpUZf"
      },
      "source": [
        "**t-distribution**"
      ]
    },
    {
      "cell_type": "markdown",
      "metadata": {
        "id": "bMD1JBWpooUQ"
      },
      "source": [
        "\n",
        "\n",
        "***Perform Statistical Test to obtain P-Value***"
      ]
    },
    {
      "cell_type": "code",
      "execution_count": null,
      "metadata": {
        "id": "HofqIhjso0jA"
      },
      "outputs": [],
      "source": [
        "\n",
        "#t-distribution\n",
        "stats.t.ppf(0.025,dof)"
      ]
    },
    {
      "cell_type": "code",
      "execution_count": null,
      "metadata": {
        "id": "NUqxf20eo1ze"
      },
      "outputs": [],
      "source": [
        "#t-distribution\n",
        "stats.t.ppf(0.975,dof)"
      ]
    },
    {
      "cell_type": "markdown",
      "metadata": {
        "id": "4xOGYyiBpUZf"
      },
      "source": [
        "**Because the t-value is not in the range, the null hypothesis is rejected.**\n",
        "\n",
        "**as result, The duration which is more than 90 mins are movies**"
      ]
    },
    {
      "cell_type": "markdown",
      "metadata": {
        "id": "yLjJCtPM0KBk"
      },
      "source": [
        "## ***6. Feature Engineering & Data Pre-processing***"
      ]
    },
    {
      "cell_type": "markdown",
      "metadata": {
        "id": "YMWa0zwu3gm2"
      },
      "source": [
        "## **6.1. Modelling Approach:**\n",
        "1. Select the attributes based on which you want to cluster the shows\n",
        "2. Text preprocessing: Remove all non-ascii characters, stopwords and punctuation marks, convert all textual data to lowercase.\n",
        "3. Lemmatization to generate a meaningful word out of corpus of words\n",
        "4. Tokenization of corpus\n",
        "5. Word vectorization\n",
        "6. Dimensionality reduction\n",
        "6. Use different algorithms to cluster the movies, obtain the optimal number of clusters using different techniques\n",
        "7. Build optimal number of clusters and visualize the contents of each cluster using wordclouds."
      ]
    },
    {
      "cell_type": "markdown",
      "metadata": {
        "id": "WVmd9b9k3gm4"
      },
      "source": [
        "We will cluster the shows on Netflix based on the following attributes:\n",
        "* Director\n",
        "* Cast\n",
        "* Country\n",
        "* Listed in (genres)\n",
        "* Description"
      ]
    },
    {
      "cell_type": "code",
      "execution_count": null,
      "metadata": {
        "id": "WOBlvfm13gm4"
      },
      "outputs": [],
      "source": [
        "# Using the original dataset for clustering since\n",
        "# it does not require handling missing values\n",
        "df1 = original_df.copy()"
      ]
    },
    {
      "cell_type": "code",
      "execution_count": null,
      "metadata": {
        "id": "cC3Lpu0C3gm5"
      },
      "outputs": [],
      "source": [
        "df1.fillna('',inplace=True)"
      ]
    },
    {
      "cell_type": "code",
      "execution_count": null,
      "metadata": {
        "id": "48vpvGWG3gm5"
      },
      "outputs": [],
      "source": [
        "# Combining all the clustering attributes into a single column\n",
        "\n",
        "df1['clustering_attributes'] = (df1['director'] + ' ' +\n",
        "                                df1['cast'] +' ' +\n",
        "                                df1['country'] +' ' +\n",
        "                                df1['listed_in'] +' ' +\n",
        "                                df1['description'])"
      ]
    },
    {
      "cell_type": "code",
      "execution_count": null,
      "metadata": {
        "id": "_f1SeCkJ3gm6"
      },
      "outputs": [],
      "source": [
        "df1['clustering_attributes'][40]"
      ]
    },
    {
      "cell_type": "markdown",
      "metadata": {
        "id": "Zb2OuHB63gm7"
      },
      "source": [
        "* **We have successfully added all the necessary data into a single column**"
      ]
    },
    {
      "cell_type": "markdown",
      "source": [
        "### 1. Handling Missing Values"
      ],
      "metadata": {
        "id": "xiyOF9F70UgQ"
      }
    },
    {
      "cell_type": "markdown",
      "source": [
        "#### What all missing value imputation techniques have you used and why did you use those techniques?"
      ],
      "metadata": {
        "id": "7wuGOrhz0itI"
      }
    },
    {
      "cell_type": "markdown",
      "source": [
        "The Description is the only features which I need for training ML model, and I don't have any missing values in the Description feature so there is no need to handle impute any missing values."
      ],
      "metadata": {
        "id": "1ixusLtI0pqI"
      }
    },
    {
      "cell_type": "markdown",
      "source": [
        "### 2. Categorical Encoding"
      ],
      "metadata": {
        "id": "89xtkJwZ18nB"
      }
    },
    {
      "cell_type": "markdown",
      "source": [
        "#### What all categorical encoding techniques have you used & why did you use those techniques?"
      ],
      "metadata": {
        "id": "67NQN5KX2AMe"
      }
    },
    {
      "cell_type": "markdown",
      "source": [
        "I going to handle only text data here so, I am not going to taking care of other variables here."
      ],
      "metadata": {
        "id": "UDaue5h32n_G"
      }
    },
    {
      "cell_type": "markdown",
      "metadata": {
        "id": "Iwf50b-R2tYG"
      },
      "source": [
        "### 3.Textual Data Preprocessing\n",
        "(It's mandatory for textual dataset i.e., NLP, Sentiment Analysis, Text Clustering etc.)"
      ]
    },
    {
      "cell_type": "markdown",
      "metadata": {
        "id": "HMxuKu6z4HO_"
      },
      "source": [
        "#### 1. Removing non-ASCII characters:"
      ]
    },
    {
      "cell_type": "code",
      "execution_count": null,
      "metadata": {
        "id": "BO4nea7G4HO_"
      },
      "outputs": [],
      "source": [
        "# function to remove non-ascii characters\n",
        "\n",
        "def remove_non_ascii(words):\n",
        "    \"\"\"Function to remove non-ASCII characters\"\"\"\n",
        "    new_words = []\n",
        "    for word in words:\n",
        "        new_word = unicodedata.normalize('NFKD', word).encode('ascii', 'ignore').decode('utf-8', 'ignore')\n",
        "        new_words.append(new_word)\n",
        "    return new_words"
      ]
    },
    {
      "cell_type": "code",
      "execution_count": null,
      "metadata": {
        "id": "hfJua79KoJRm"
      },
      "outputs": [],
      "source": [
        "# remove non-ascii characters\n",
        "df1['clustering_attributes'] = remove_non_ascii(df1['clustering_attributes'])"
      ]
    },
    {
      "cell_type": "code",
      "execution_count": null,
      "metadata": {
        "id": "_D2XjeZ5oR_2"
      },
      "outputs": [],
      "source": [
        "df1['clustering_attributes'][40]"
      ]
    },
    {
      "cell_type": "markdown",
      "metadata": {
        "id": "pct2a6cM74RE"
      },
      "source": [
        "* **We have successfully removed all non-ascii characters from the corpus.**"
      ]
    },
    {
      "cell_type": "markdown",
      "metadata": {
        "id": "7AuWL7yBEOMc"
      },
      "source": [
        "#### 2. Remove stopwords and lower case"
      ]
    },
    {
      "cell_type": "code",
      "execution_count": null,
      "metadata": {
        "id": "gXi0vNSfEUXf"
      },
      "outputs": [],
      "source": [
        "# extracting the stopwords from nltk library\n",
        "!pip install nltk\n",
        "import nltk\n",
        "nltk.download('stopwords')\n",
        "from nltk.corpus import stopwords\n",
        "sw = stopwords.words('english')\n",
        "# displaying the stopwords\n",
        "np.array(sw)"
      ]
    },
    {
      "cell_type": "code",
      "execution_count": null,
      "metadata": {
        "id": "bWFuBCYgE2r7"
      },
      "outputs": [],
      "source": [
        "# function to remove stop words\n",
        "def stopwords(text):\n",
        "    '''a function for removing the stopword'''\n",
        "    # removing the stop words and lowercasing the selected words\n",
        "    text = [word.lower() for word in text.split() if word.lower() not in sw]\n",
        "    # joining the list of words with space separator\n",
        "    return \" \".join(text)"
      ]
    },
    {
      "cell_type": "code",
      "execution_count": null,
      "metadata": {
        "id": "iqWUMUx4E5tN"
      },
      "outputs": [],
      "source": [
        "# Removing stop words\n",
        "df1['clustering_attributes'] = df1['clustering_attributes'].apply(stopwords)"
      ]
    },
    {
      "cell_type": "code",
      "execution_count": null,
      "metadata": {
        "id": "J7jwum69mMFa"
      },
      "outputs": [],
      "source": [
        "df1['clustering_attributes'][40]"
      ]
    },
    {
      "cell_type": "markdown",
      "metadata": {
        "id": "KK96lG1u8D8B"
      },
      "source": [
        "* **We have successfully removed all the stopwords and converted the corpus to lowercase.**"
      ]
    },
    {
      "cell_type": "markdown",
      "metadata": {
        "id": "XkPnILGE3zoT"
      },
      "source": [
        "#### 3. Removing Punctuations"
      ]
    },
    {
      "cell_type": "code",
      "execution_count": null,
      "metadata": {
        "id": "vqbBqNaA33c0"
      },
      "outputs": [],
      "source": [
        "# Remove Punctuations\n",
        "\n",
        "# Define the function to remove punctuation\n",
        "def remove_punctuation(text):\n",
        "  import string\n",
        "  return text.translate(str.maketrans('', '', string.punctuation))\n",
        "\n",
        "# Apply the function to the column\n",
        "df1['clustering_attributes'] = df1['clustering_attributes'].apply(remove_punctuation)"
      ]
    },
    {
      "cell_type": "code",
      "execution_count": null,
      "metadata": {
        "id": "8JxdfXU2kfED"
      },
      "outputs": [],
      "source": [
        "df1['clustering_attributes'][40]"
      ]
    },
    {
      "cell_type": "markdown",
      "metadata": {
        "id": "c49ITxTc407N"
      },
      "source": [
        "####4. Lemmatization:"
      ]
    },
    {
      "cell_type": "code",
      "execution_count": null,
      "metadata": {
        "id": "foqY80Qu48N2"
      },
      "outputs": [],
      "source": [
        "# function to lemmatize the corpus\n",
        "\n",
        "\n",
        "def lemmatize_verbs(words):\n",
        "    \"\"\"Lemmatize verbs in list of tokenized words\"\"\"\n",
        "    lemmatizer = WordNetLemmatizer()\n",
        "    lemmas = []\n",
        "    for word in words:\n",
        "        lemma = lemmatizer.lemmatize(word, pos='v')\n",
        "        lemmas.append(lemma)\n",
        "    return lemmas"
      ]
    },
    {
      "cell_type": "code",
      "execution_count": null,
      "metadata": {
        "id": "Qpj6D3UnJVWw"
      },
      "outputs": [],
      "source": [
        "# Lemmatization\n",
        "df1['clustering_attributes'] = lemmatize_verbs(df1['clustering_attributes'])"
      ]
    },
    {
      "cell_type": "code",
      "execution_count": null,
      "metadata": {
        "id": "ofuXvKWnJj5S"
      },
      "outputs": [],
      "source": [
        "df1['clustering_attributes'][40]"
      ]
    },
    {
      "cell_type": "markdown",
      "metadata": {
        "id": "Kk3-dZky8p8e"
      },
      "source": [
        "* **We have lemmatized the corpus.**"
      ]
    },
    {
      "cell_type": "markdown",
      "metadata": {
        "id": "OeJFEK0N496M"
      },
      "source": [
        "#### 5. Tokenization"
      ]
    },
    {
      "cell_type": "code",
      "execution_count": null,
      "metadata": {
        "id": "Ae1xly4UlYbl"
      },
      "outputs": [],
      "source": [
        "# Tokenization\n",
        "tokenizer = TweetTokenizer()"
      ]
    },
    {
      "cell_type": "code",
      "execution_count": null,
      "metadata": {
        "id": "xnTeiQkLlyCe"
      },
      "outputs": [],
      "source": [
        "df1['clustering_attributes'] = df1['clustering_attributes'].apply(lambda x: tokenizer.tokenize(x))"
      ]
    },
    {
      "cell_type": "markdown",
      "metadata": {
        "id": "bmgzXSZr8v9K"
      },
      "source": [
        "* **The corpus is converted to tokens.**"
      ]
    },
    {
      "cell_type": "markdown",
      "metadata": {
        "id": "T0VqWOYE6DLQ"
      },
      "source": [
        "#### 6. Vectorization"
      ]
    },
    {
      "cell_type": "markdown",
      "metadata": {
        "id": "1stxwQwAYVgx"
      },
      "source": [
        "* We can vectorize the corpus using TFIDF vectorizer, where TFIDF stands for - Term Frequency Inverse Document Frequency.\n",
        "\n",
        "\\begin{align}\n",
        "        TF = \\frac{Number\\ of\\ times\\ term\\ t\\ appears\\ in\\ a\\ document}{Total\\ number\\ of\\ terms\\ in\\ the\\ document}\n",
        "    \\end{align}\n",
        "\n",
        "\\begin{align}\n",
        "        IDF(t) = log_e(\\frac{Total\\  number \\ of \\ documents}{ Number\\ of\\ documents\\ with\\ term\\ t\\ in\\ it })\n",
        "    \\end{align}\n",
        "\n",
        "\\begin{align}\n",
        "TFIDF = {TF\\ *\\ IDF}\n",
        "    \\end{align}"
      ]
    },
    {
      "cell_type": "code",
      "execution_count": null,
      "metadata": {
        "id": "mB-jhiZMpla2"
      },
      "outputs": [],
      "source": [
        "# clustering tokens saved in a variable\n",
        "clustering_data = df1['clustering_attributes']"
      ]
    },
    {
      "cell_type": "code",
      "execution_count": null,
      "metadata": {
        "id": "RzbF4fZuqZDN"
      },
      "outputs": [],
      "source": [
        "# Tokenization\n",
        "def identity_tokenizer(text):\n",
        "    return text\n",
        "\n",
        "# Using TFIDF vectorizer to vectorize the corpus\n",
        "# max features = 20000 to prevent system from crashing\n",
        "tfidf = TfidfVectorizer(tokenizer=identity_tokenizer, stop_words='english', lowercase=False,max_features = 20000)\n",
        "X = tfidf.fit_transform(clustering_data)"
      ]
    },
    {
      "cell_type": "code",
      "execution_count": null,
      "metadata": {
        "id": "ctqg2mocLCY8"
      },
      "outputs": [],
      "source": [
        "X"
      ]
    },
    {
      "cell_type": "code",
      "execution_count": null,
      "metadata": {
        "id": "llWZELm9LEws"
      },
      "outputs": [],
      "source": [
        "# Shape of X\n",
        "X.shape"
      ]
    },
    {
      "cell_type": "code",
      "execution_count": null,
      "metadata": {
        "id": "yhaz2Y6DCvcP"
      },
      "outputs": [],
      "source": [
        "# data type of vector\n",
        "type(X)"
      ]
    },
    {
      "cell_type": "code",
      "execution_count": null,
      "metadata": {
        "id": "7q28zJXYCvcP"
      },
      "outputs": [],
      "source": [
        "# convert X into array form for clustering\n",
        "X = X.toarray()"
      ]
    },
    {
      "cell_type": "markdown",
      "metadata": {
        "id": "1UUpS68QDMuG"
      },
      "source": [
        "### Dimensionality reduction using PCA"
      ]
    },
    {
      "cell_type": "markdown",
      "metadata": {
        "id": "kexQrXU-DjzY"
      },
      "source": [
        "##### Do you think that dimensionality reduction is needed? Explain Why?"
      ]
    },
    {
      "cell_type": "markdown",
      "metadata": {
        "id": "koTmvR7KH_p2"
      },
      "source": [
        "**Principal component analysis (PCA) is a dimensionality reduction and machine learning method used to simplify a large data set into a smaller set while still maintaining significant patterns and trends.**"
      ]
    },
    {
      "cell_type": "markdown",
      "metadata": {
        "id": "GGRlBsSGDtTQ"
      },
      "source": [
        "We can use PCA (Principal component Analysis) to reduce the dimensionality of data.\n",
        "\n",
        "These techniques can help reduce the number of dimensions while preserving most of the variance in the data, potentially improving the performance of your clustering algorithm."
      ]
    },
    {
      "cell_type": "code",
      "execution_count": null,
      "metadata": {
        "id": "kQfvxBBHDvCa"
      },
      "outputs": [],
      "source": [
        "# DImensionality Reduction\n",
        "\n",
        "# using PCA to reduce dimensionality\n",
        "pca = PCA(random_state=42)\n",
        "pca.fit(X)\n"
      ]
    },
    {
      "cell_type": "code",
      "execution_count": null,
      "metadata": {
        "id": "ldDbV8Q0CvcQ"
      },
      "outputs": [],
      "source": [
        "# Explained variance for different number of components\n",
        "plt.figure(figsize=(10,5))\n",
        "plt.plot(np.cumsum(pca.explained_variance_ratio_))\n",
        "plt.title('PCA - Cumulative explained variance vs number of components')\n",
        "plt.xlabel('number of components')\n",
        "plt.ylabel('cumulative explained variance')"
      ]
    },
    {
      "cell_type": "markdown",
      "metadata": {
        "id": "NDrTCHMiCvcQ"
      },
      "source": [
        "* We find that **100%** of the variance is explained by about **~7500 components**.\n",
        "* Also, more than **80%** of the variance is explained just by **4000 components**.\n",
        "* Hence to simplify the model, and reduce dimensionality, we can take the top 4000 components, which will still be able to capture more than 80% of variance."
      ]
    },
    {
      "cell_type": "code",
      "execution_count": null,
      "metadata": {
        "id": "63uD7xTECvcQ"
      },
      "outputs": [],
      "source": [
        "# reducing the dimensions to 4000 using pca\n",
        "pca = PCA(n_components=4000,random_state=42)\n",
        "pca.fit(X)"
      ]
    },
    {
      "cell_type": "code",
      "execution_count": null,
      "metadata": {
        "id": "wqfGuW81CvcQ"
      },
      "outputs": [],
      "source": [
        "# transformed features\n",
        "x_pca = pca.transform(X)"
      ]
    },
    {
      "cell_type": "code",
      "execution_count": null,
      "metadata": {
        "id": "DkFDAY2hCvcR"
      },
      "outputs": [],
      "source": [
        "# shape of transformed vectors\n",
        "x_pca.shape"
      ]
    },
    {
      "cell_type": "markdown",
      "metadata": {
        "id": "nKXjB--a9fHU"
      },
      "source": [
        "We have successfully reduced the dimensionality of data using PCA."
      ]
    },
    {
      "cell_type": "markdown",
      "metadata": {
        "id": "T5CmagL3EC8N"
      },
      "source": [
        "##### Which dimensionality reduction technique have you used and why? (If dimensionality reduction done on dataset.)"
      ]
    },
    {
      "cell_type": "markdown",
      "metadata": {
        "id": "ZKr75IDuEM7t"
      },
      "source": [
        "I've used Principal Component Analysis (PCA) as the dimensionality reduction technique for  dataset. PCA is a widely used technique for reducing the dimensionality of high-dimensional data while preserving most of the variability in the data.\n",
        "\n",
        " PCA is a versatile dimensionality reduction technique that is widely used in various fields, including machine learning, data analysis, and feature engineering, due to its effectiveness, efficiency, and interpretability."
      ]
    },
    {
      "cell_type": "markdown",
      "metadata": {
        "id": "z2MusJ9OXdsA"
      },
      "source": [
        "# **7. Clusters implementation:**"
      ]
    },
    {
      "cell_type": "markdown",
      "metadata": {
        "id": "fkVv3Uczv1Sp"
      },
      "source": [
        "## **7.1. K-Means Clustering:**"
      ]
    },
    {
      "cell_type": "markdown",
      "metadata": {
        "id": "AdDvYFGqv6ab"
      },
      "source": [
        "Building clusters using the K-means clustering algorithm."
      ]
    },
    {
      "cell_type": "markdown",
      "metadata": {
        "id": "rpEOlIyqEt0b"
      },
      "source": [
        "Visualizing the elbow curve and Silhouette score to decide on the optimal number of clusters for K-means clustering algorithm."
      ]
    },
    {
      "cell_type": "code",
      "execution_count": null,
      "metadata": {
        "id": "TtUsRCMxxuKM"
      },
      "outputs": [],
      "source": [
        "# Elbow method to find the optimal value of k\n",
        "wcss=[]\n",
        "for i in range(1,31):\n",
        "  kmeans = KMeans(n_clusters=i,init='k-means++',random_state=33)\n",
        "  kmeans.fit(x_pca)\n",
        "  wcss_iter = kmeans.inertia_\n",
        "  wcss.append(wcss_iter)\n",
        "\n",
        "number_clusters = range(1,31)\n",
        "plt.figure(figsize=(10,5))\n",
        "plt.plot(number_clusters,wcss)\n",
        "plt.title('The Elbow Method - KMeans clustering')\n",
        "plt.xlabel('Number of clusters')\n",
        "plt.ylabel('WCSS')"
      ]
    },
    {
      "cell_type": "markdown",
      "metadata": {
        "id": "wWZthVEw9rzj"
      },
      "source": [
        "**The sum of squared distance between each point and the centroid in a cluster (WCSS) decreases with the increase in the number of clusters.**"
      ]
    },
    {
      "cell_type": "code",
      "execution_count": null,
      "metadata": {
        "id": "Lv8X54IsXl7P"
      },
      "outputs": [],
      "source": [
        "# Plotting Silhouette score for different umber of clusters\n",
        "range_n_clusters = range(2,31)\n",
        "silhouette_avg = []\n",
        "for num_clusters in range_n_clusters:\n",
        "  # initialize kmeans\n",
        "  kmeans = KMeans(n_clusters=num_clusters,init='k-means++',random_state=33)\n",
        "  kmeans.fit(x_pca)\n",
        "  cluster_labels = kmeans.labels_\n",
        "\n",
        "  # silhouette score\n",
        "  silhouette_avg.append(silhouette_score(x_pca, cluster_labels))\n",
        "\n",
        "plt.figure(figsize=(10,5))\n",
        "plt.plot(range_n_clusters,silhouette_avg)\n",
        "plt.xlabel('Values of K')\n",
        "plt.ylabel('Silhouette score')\n",
        "plt.title('Silhouette analysis For Optimal k - KMeans clustering')\n",
        "plt.show()"
      ]
    },
    {
      "cell_type": "markdown",
      "metadata": {
        "id": "AxdPS7L1F2-T"
      },
      "source": [
        "* **The highest Silhouette score is obtained for 6 clusters.**"
      ]
    },
    {
      "cell_type": "markdown",
      "metadata": {
        "id": "ne9H7CbW-ULO"
      },
      "source": [
        "Building 6 clusters using the k-means clustering algorithm:"
      ]
    },
    {
      "cell_type": "code",
      "execution_count": null,
      "metadata": {
        "id": "in547J0jIysv"
      },
      "outputs": [],
      "source": [
        "# Clustering the data into 19 clusters\n",
        "kmeans = KMeans(n_clusters=6,init='k-means++',random_state=33)\n",
        "kmeans.fit(x_pca)"
      ]
    },
    {
      "cell_type": "code",
      "execution_count": null,
      "metadata": {
        "id": "NlRWcjfOQt-O"
      },
      "outputs": [],
      "source": [
        "# Evaluation metrics - distortion, Silhouette score\n",
        "kmeans_distortion = kmeans.inertia_\n",
        "kmeans_silhouette_score = silhouette_score(x_pca, kmeans.labels_)\n",
        "\n",
        "print((kmeans_distortion,kmeans_silhouette_score))"
      ]
    },
    {
      "cell_type": "code",
      "execution_count": null,
      "metadata": {
        "id": "5vJT8zCkKVxR"
      },
      "outputs": [],
      "source": [
        "# Adding a kmeans cluster number attribute\n",
        "df1['kmeans_cluster'] = kmeans.labels_"
      ]
    },
    {
      "cell_type": "code",
      "execution_count": null,
      "metadata": {
        "id": "aWM5R1vBNEn6"
      },
      "outputs": [],
      "source": [
        "# Number of movies and tv shows in each cluster\n",
        "plt.figure(figsize=(10,5))\n",
        "q = sns.countplot(x='kmeans_cluster',data=df1, hue='type')\n",
        "plt.title('Number of movies and TV shows in each cluster - Kmeans Clustering')\n",
        "for i in q.patches:\n",
        "  q.annotate(format(i.get_height(), '.0f'), (i.get_x() + i.get_width() / 2., i.get_height()), ha = 'center', va = 'center', xytext = (0, 10), textcoords = 'offset points')"
      ]
    },
    {
      "cell_type": "markdown",
      "metadata": {
        "id": "NKGs4SRX-g1g"
      },
      "source": [
        "**Successfully built 6 clusters using the k-means clustering algorithm.**"
      ]
    },
    {
      "cell_type": "markdown",
      "metadata": {
        "id": "d66bs_8dFA4d"
      },
      "source": [
        "### **7.1.1. Building wordclouds for different clusters built:**"
      ]
    },
    {
      "cell_type": "code",
      "execution_count": null,
      "metadata": {
        "id": "Reb-422Hrs1A"
      },
      "outputs": [],
      "source": [
        "# Building a wordcloud for the movie descriptions\n",
        "def kmeans_worldcloud(cluster_num):\n",
        "  comment_words = ''\n",
        "  stopwords = set(STOPWORDS)\n",
        "\n",
        "  # iterate through the csv file\n",
        "  for val in df1[df1['kmeans_cluster']==cluster_num].description.values:\n",
        "\n",
        "      # typecaste each val to string\n",
        "      val = str(val)\n",
        "\n",
        "      # split the value\n",
        "      tokens = val.split()\n",
        "\n",
        "      # Converts each token into lowercase\n",
        "      for i in range(len(tokens)):\n",
        "          tokens[i] = tokens[i].lower()\n",
        "\n",
        "      comment_words += \" \".join(tokens)+\" \"\n",
        "\n",
        "  wordcloud = WordCloud(width = 700, height = 700,\n",
        "                  background_color ='white',\n",
        "                  stopwords = stopwords,\n",
        "                  min_font_size = 10).generate(comment_words)\n",
        "\n",
        "\n",
        "  # plot the WordCloud image\n",
        "  plt.figure(figsize = (10,5), facecolor = None)\n",
        "  plt.imshow(wordcloud)\n",
        "  plt.axis(\"off\")\n",
        "  plt.tight_layout(pad = 0)"
      ]
    },
    {
      "cell_type": "code",
      "execution_count": null,
      "metadata": {
        "id": "_ypBBj5NsgCm"
      },
      "outputs": [],
      "source": [
        "# Wordcloud for cluster 0\n",
        "kmeans_worldcloud(0)"
      ]
    },
    {
      "cell_type": "markdown",
      "metadata": {
        "id": "FAZw03qB1fnh"
      },
      "source": [
        "**Keywords observed in cluster 0: life, new, family, friend, save, help, discover, home, teen**"
      ]
    },
    {
      "cell_type": "code",
      "execution_count": null,
      "metadata": {
        "id": "SL58Hr-Qs8Q7"
      },
      "outputs": [],
      "source": [
        "# Wordcloud for cluster 1\n",
        "kmeans_worldcloud(1)"
      ]
    },
    {
      "cell_type": "markdown",
      "metadata": {
        "id": "fSJGPiZD1z5U"
      },
      "source": [
        "**Keywords observed in cluster 1: life, love, family, father, young, girl, man, woman, friend, daughter**"
      ]
    },
    {
      "cell_type": "code",
      "execution_count": null,
      "metadata": {
        "id": "Y-HVlBcgtBHc"
      },
      "outputs": [],
      "source": [
        "# Wordcloud for cluster 2\n",
        "kmeans_worldcloud(2)"
      ]
    },
    {
      "cell_type": "markdown",
      "metadata": {
        "id": "1sdwX9cd19PX"
      },
      "source": [
        "**Keywords observed in cluster 2: young, world, girl, mysterious, humanity, life, student, school, battle, demon, force**"
      ]
    },
    {
      "cell_type": "code",
      "execution_count": null,
      "metadata": {
        "id": "fVTf3GeptOwp"
      },
      "outputs": [],
      "source": [
        "# Wordcloud for cluster 3\n",
        "kmeans_worldcloud(3)"
      ]
    },
    {
      "cell_type": "markdown",
      "metadata": {
        "id": "5oKhB0V02QYC"
      },
      "source": [
        "**Keywords observed in cluster 3: love, life, family, romance, crime, murder, world, adventure**"
      ]
    },
    {
      "cell_type": "code",
      "execution_count": null,
      "metadata": {
        "id": "iVuY5x_atQWj"
      },
      "outputs": [],
      "source": [
        "# Wordcloud for cluster 4\n",
        "kmeans_worldcloud(4)"
      ]
    },
    {
      "cell_type": "markdown",
      "metadata": {
        "id": "YmGCwsTf2bDT"
      },
      "source": [
        "**Keywords observed in cluster 4: comedian, special, stand, comic, stage, sex, joke**"
      ]
    },
    {
      "cell_type": "code",
      "execution_count": null,
      "metadata": {
        "id": "3fIVc4JTtR8X"
      },
      "outputs": [],
      "source": [
        "# Wordcloud for cluster 5\n",
        "kmeans_worldcloud(5)"
      ]
    },
    {
      "cell_type": "markdown",
      "metadata": {
        "id": "l8ko4GGc2k3-"
      },
      "source": [
        "**Keywords observed in cluster 5: documentary, world, life, filmmaker, american, life**"
      ]
    },
    {
      "cell_type": "markdown",
      "metadata": {
        "id": "aVAjfOS3ItCt"
      },
      "source": [
        "## **7.2. Hierarchical clustering:**"
      ]
    },
    {
      "cell_type": "markdown",
      "metadata": {
        "id": "oGb2CTx_FpFQ"
      },
      "source": [
        "Building clusters using the agglomerative (hierarchical) clustering algorithm."
      ]
    },
    {
      "cell_type": "markdown",
      "metadata": {
        "id": "kksblCnhFxtB"
      },
      "source": [
        "Visualizing the dendrogram to decide on the optimal number of clusters for the agglomerative (hierarchical) clustering algorithm:"
      ]
    },
    {
      "cell_type": "code",
      "execution_count": null,
      "metadata": {
        "id": "iXlwE3xJB72t"
      },
      "outputs": [],
      "source": [
        "# Building a dendogram to decide on the number of clusters\n",
        "plt.figure(figsize=(10, 7))\n",
        "dend = shc.dendrogram(shc.linkage(x_pca, method='ward'))\n",
        "plt.title('Dendrogram')\n",
        "plt.xlabel('Netflix Shows')\n",
        "plt.ylabel('Distance')\n",
        "plt.axhline(y= 3.8, color='r', linestyle='--')"
      ]
    },
    {
      "cell_type": "markdown",
      "metadata": {
        "id": "yfjo-rzA_LS_"
      },
      "source": [
        "**At a distance of 3.8 units, 12 clusters can be built using the agglomerative clustering algorithm.**"
      ]
    },
    {
      "cell_type": "markdown",
      "metadata": {
        "id": "7PUpKrYFVchU"
      },
      "source": [
        "Building 12 clusters using the Agglomerative clustering algorithm:"
      ]
    },
    {
      "cell_type": "code",
      "execution_count": null,
      "metadata": {
        "id": "83SELqkZI-mh"
      },
      "outputs": [],
      "source": [
        "# Fitting hierarchical clustering model\n",
        "hierarchical = AgglomerativeClustering(n_clusters=12, affinity='euclidean', linkage='ward')\n",
        "hierarchical.fit_predict(x_pca)"
      ]
    },
    {
      "cell_type": "code",
      "execution_count": null,
      "metadata": {
        "id": "fQsWVoBQ2pbg"
      },
      "outputs": [],
      "source": [
        "# Adding a kmeans cluster number attribute\n",
        "df1['hierarchical_cluster'] = hierarchical.labels_"
      ]
    },
    {
      "cell_type": "code",
      "execution_count": null,
      "metadata": {
        "id": "mlIQLtBE2pbh"
      },
      "outputs": [],
      "source": [
        "# Number of movies and tv shows in each cluster\n",
        "plt.figure(figsize=(10,5))\n",
        "q = sns.countplot(x='hierarchical_cluster',data=df1, hue='type')\n",
        "plt.title('Number of movies and tv shows in each cluster - Hierarchical Clustering')\n",
        "for i in q.patches:\n",
        "  q.annotate(format(i.get_height(), '.0f'), (i.get_x() + i.get_width() / 2., i.get_height()), ha = 'center', va = 'center', xytext = (0, 10), textcoords = 'offset points')"
      ]
    },
    {
      "cell_type": "markdown",
      "metadata": {
        "id": "MDQWMEut_yra"
      },
      "source": [
        "Successfully built 12 clusters using the Agglomerative (hierarchical) clustering algorithm."
      ]
    },
    {
      "cell_type": "markdown",
      "metadata": {
        "id": "v2a0bpcZGBLz"
      },
      "source": [
        "### **7.2.1. Building wordclouds for different clusters built:**"
      ]
    },
    {
      "cell_type": "code",
      "execution_count": null,
      "metadata": {
        "id": "TcNLAag0tgD9"
      },
      "outputs": [],
      "source": [
        "# Building a wordcloud for the movie descriptions\n",
        "def hierarchical_worldcloud(cluster_num):\n",
        "  comment_words = ''\n",
        "  stopwords = set(STOPWORDS)\n",
        "\n",
        "  # iterate through the csv file\n",
        "  for val in df1[df1['hierarchical_cluster']==cluster_num].description.values:\n",
        "\n",
        "      # typecaste each val to string\n",
        "      val = str(val)\n",
        "\n",
        "      # split the value\n",
        "      tokens = val.split()\n",
        "\n",
        "      # Converts each token into lowercase\n",
        "      for i in range(len(tokens)):\n",
        "          tokens[i] = tokens[i].lower()\n",
        "\n",
        "      comment_words += \" \".join(tokens)+\" \"\n",
        "\n",
        "  wordcloud = WordCloud(width = 700, height = 700,\n",
        "                  background_color ='white',\n",
        "                  stopwords = stopwords,\n",
        "                  min_font_size = 10).generate(comment_words)\n",
        "\n",
        "\n",
        "  # plot the WordCloud image\n",
        "  plt.figure(figsize = (10,5), facecolor = None)\n",
        "  plt.imshow(wordcloud)\n",
        "  plt.axis(\"off\")\n",
        "  plt.tight_layout(pad = 0)"
      ]
    },
    {
      "cell_type": "code",
      "execution_count": null,
      "metadata": {
        "id": "s4qL_XRCuAQA"
      },
      "outputs": [],
      "source": [
        "# Wordcloud for cluster 0\n",
        "hierarchical_worldcloud(0)"
      ]
    },
    {
      "cell_type": "markdown",
      "metadata": {
        "id": "Ls558pWwk57T"
      },
      "source": [
        "**Keywords observed in cluster 0: life, new, find, family, save, friend, young, teen, adventure**"
      ]
    },
    {
      "cell_type": "code",
      "execution_count": null,
      "metadata": {
        "id": "Ibi0hBCwuCMS"
      },
      "outputs": [],
      "source": [
        "# Wordcloud for cluster 1\n",
        "hierarchical_worldcloud(1)"
      ]
    },
    {
      "cell_type": "markdown",
      "metadata": {
        "id": "D8eFLT80lPAZ"
      },
      "source": [
        "**Keywords observed in cluster 1: love, family, life, student, romance, school, woman, master, father**"
      ]
    },
    {
      "cell_type": "code",
      "execution_count": null,
      "metadata": {
        "id": "_0ZaMRQ-uDZS"
      },
      "outputs": [],
      "source": [
        "# Wordcloud for cluster 2\n",
        "hierarchical_worldcloud(2)"
      ]
    },
    {
      "cell_type": "markdown",
      "metadata": {
        "id": "jhgwhumilebG"
      },
      "source": [
        "**Keywords observed in cluster 2: life, new, series, crime, world, murder, history, detective**"
      ]
    },
    {
      "cell_type": "code",
      "execution_count": null,
      "metadata": {
        "id": "O9rl2yicuFoM"
      },
      "outputs": [],
      "source": [
        "# Wordcloud for cluster 3\n",
        "hierarchical_worldcloud(3)"
      ]
    },
    {
      "cell_type": "markdown",
      "metadata": {
        "id": "a1T8cZmHls9G"
      },
      "source": [
        "**Keywords observed in cluster 3: family, life, love, friend, teen, woman, man, young, world, wedding, secret**"
      ]
    },
    {
      "cell_type": "code",
      "execution_count": null,
      "metadata": {
        "id": "in4v5LjwuHcF"
      },
      "outputs": [],
      "source": [
        "# Wordcloud for cluster 4\n",
        "hierarchical_worldcloud(4)"
      ]
    },
    {
      "cell_type": "markdown",
      "metadata": {
        "id": "9algRb-pmNed"
      },
      "source": [
        "**Keywords observed in cluster 4: documentary, music, world, team, interview,history, family, career, battle, death**"
      ]
    },
    {
      "cell_type": "code",
      "execution_count": null,
      "metadata": {
        "id": "jc-vmVDkuI1a"
      },
      "outputs": [],
      "source": [
        "# Wordcloud for cluster 5\n",
        "hierarchical_worldcloud(5)"
      ]
    },
    {
      "cell_type": "markdown",
      "metadata": {
        "id": "0e_T6-eUmg31"
      },
      "source": [
        "**Keywords observed in cluster 5: family, life, mexico, young, new, woman, man, secret, spain, death, singer**"
      ]
    },
    {
      "cell_type": "code",
      "execution_count": null,
      "metadata": {
        "id": "3EJo0cUnuKNv"
      },
      "outputs": [],
      "source": [
        "# Wordcloud for cluster 6\n",
        "hierarchical_worldcloud(6)"
      ]
    },
    {
      "cell_type": "markdown",
      "metadata": {
        "id": "YTB1qzWSmyaa"
      },
      "source": [
        "**Keywords observed in cluster 6: young, life, girl, world, friend, mysterious, demon, student, school, father**"
      ]
    },
    {
      "cell_type": "code",
      "execution_count": null,
      "metadata": {
        "id": "2we8kK0fuLQ5"
      },
      "outputs": [],
      "source": [
        "# Wordcloud for cluster 7\n",
        "hierarchical_worldcloud(7)"
      ]
    },
    {
      "cell_type": "markdown",
      "metadata": {
        "id": "gQJJtLmEnBUD"
      },
      "source": [
        "**Keywords observed in cluster 7: love, life, woman, new, student, family, korea, secret, detective, young**"
      ]
    },
    {
      "cell_type": "code",
      "execution_count": null,
      "metadata": {
        "id": "s5L0pQcZuMZs"
      },
      "outputs": [],
      "source": [
        "# Wordcloud for cluster 8\n",
        "hierarchical_worldcloud(8)"
      ]
    },
    {
      "cell_type": "markdown",
      "metadata": {
        "id": "Rs0QzZr-nTrw"
      },
      "source": [
        "**Keywords observed in cluster 8: woman, man life, egypt, wealthy, money, young, love, revolution, struggling**"
      ]
    },
    {
      "cell_type": "code",
      "execution_count": null,
      "metadata": {
        "id": "uFbUdS4iuNri"
      },
      "outputs": [],
      "source": [
        "# Wordcloud for cluster 9\n",
        "hierarchical_worldcloud(9)"
      ]
    },
    {
      "cell_type": "markdown",
      "metadata": {
        "id": "GbGV0Z8_nmb7"
      },
      "source": [
        "**Keywords observed in cluster 9: comedian, stand, life, comic, special, show, live, star, stage, hilarious, stories**"
      ]
    },
    {
      "cell_type": "code",
      "execution_count": null,
      "metadata": {
        "id": "5OQ3t7SPuO7N"
      },
      "outputs": [],
      "source": [
        "# Wordcloud for cluster 10\n",
        "hierarchical_worldcloud(10)"
      ]
    },
    {
      "cell_type": "markdown",
      "metadata": {
        "id": "3LQ2jn2gn1ms"
      },
      "source": [
        "**Keywords observed in cluster 10: animal, nature, explore, planet, species, survive, natural, life, examine, earth**"
      ]
    },
    {
      "cell_type": "code",
      "execution_count": null,
      "metadata": {
        "id": "jX_7OlcFuQKX"
      },
      "outputs": [],
      "source": [
        "# Wordcloud for cluster 11\n",
        "hierarchical_worldcloud(11)"
      ]
    },
    {
      "cell_type": "markdown",
      "metadata": {
        "id": "1SJfxjdsoFkS"
      },
      "source": [
        "**Keywords observed in cluster 11: love, man, woman, india, father, friend, girl, mumbai, city, learn, young**"
      ]
    },
    {
      "cell_type": "markdown",
      "metadata": {
        "id": "9ezGSWIhgSmE"
      },
      "source": [
        "# **8. Content based recommender system:**"
      ]
    },
    {
      "cell_type": "markdown",
      "metadata": {
        "id": "I7SPIvo9RwDf"
      },
      "source": [
        "* We can build a simple content based recommender system based on the similarity of the shows.\n",
        "* If a person has watched a show on Netflix, the recommender system must be able to recommend a list of similar shows that s/he likes.\n",
        "* To get the similarity score of the shows, we can use cosine similarity\n",
        "* The similarity between two vectors (A and B) is calculated by taking the dot product of the two vectors and dividing it by the magnitude value as shown in the equation below. We can simply say that the CS score of two vectors increases as the angle between them decreases.\n",
        "\n",
        "\\begin{align}\n",
        "        Cos(\\theta) = \\frac{A\\ .\\ B}{|A|\\ .\\ |B|}\n",
        "    \\end{align}"
      ]
    },
    {
      "cell_type": "code",
      "execution_count": null,
      "metadata": {
        "id": "y6sBFJ3Qiah7"
      },
      "outputs": [],
      "source": [
        "# defining a new df for building a recommender system\n",
        "recommender_df = df1.copy()"
      ]
    },
    {
      "cell_type": "code",
      "execution_count": null,
      "metadata": {
        "id": "aW5S1Dk3dq5W"
      },
      "outputs": [],
      "source": [
        "# Changing the index of the df from show id to show title\n",
        "recommender_df['show_id'] = recommender_df.index"
      ]
    },
    {
      "cell_type": "code",
      "execution_count": null,
      "metadata": {
        "id": "SC1NscQKcTHq"
      },
      "outputs": [],
      "source": [
        "# converting tokens to string\n",
        "def convert(lst):\n",
        "  return ' '.join(lst)\n",
        "\n",
        "recommender_df['clustering_attributes'] = recommender_df['clustering_attributes'].apply(lambda x: convert(x))"
      ]
    },
    {
      "cell_type": "code",
      "execution_count": null,
      "metadata": {
        "id": "COu1y8Xzjf0U"
      },
      "outputs": [],
      "source": [
        "# setting title of movies/Tv shows as index\n",
        "recommender_df.set_index('title',inplace=True)"
      ]
    },
    {
      "cell_type": "code",
      "execution_count": null,
      "metadata": {
        "id": "BAdbJiyoWgkz"
      },
      "outputs": [],
      "source": [
        "# Count vectorizer\n",
        "CV = CountVectorizer()\n",
        "converted_matrix = CV.fit_transform(recommender_df['clustering_attributes'])"
      ]
    },
    {
      "cell_type": "code",
      "execution_count": null,
      "metadata": {
        "id": "zJtbzNcFXGhW"
      },
      "outputs": [],
      "source": [
        "# Cosine similarity\n",
        "cosine_similarity = cosine_similarity(converted_matrix)"
      ]
    },
    {
      "cell_type": "code",
      "execution_count": null,
      "metadata": {
        "id": "wXpSJQl4YB6F"
      },
      "outputs": [],
      "source": [
        "cosine_similarity.shape"
      ]
    },
    {
      "cell_type": "code",
      "execution_count": null,
      "metadata": {
        "id": "l_0rKAOmgFvR"
      },
      "outputs": [],
      "source": [
        "# Developing a function to get 20 recommendations for a show\n",
        "indices = pd.Series(recommender_df.index)\n",
        "\n",
        "def recommend_20(title, cosine_sim = cosine_similarity):\n",
        "  try:\n",
        "    recommend_content = []\n",
        "    idx = indices[indices == title].index[0]\n",
        "    series = pd.Series(cosine_sim[idx]).sort_values(ascending = False)\n",
        "    top20 = list(series.iloc[1:21].index)\n",
        "    # list with the titles of the best 10 matching movies\n",
        "    for i in top20:\n",
        "      recommend_content.append(list(recommender_df.index)[i])\n",
        "    print(\"If you liked '\"+title+\"', you may also enjoy:\\n\")\n",
        "    return recommend_content\n",
        "\n",
        "  except:\n",
        "    return 'Invalid Entry'"
      ]
    },
    {
      "cell_type": "code",
      "execution_count": null,
      "metadata": {
        "id": "mHQz9FLHgXxe"
      },
      "outputs": [],
      "source": [
        "# Recommendations for 'A Man Called God'\n",
        "recommend_20('A Man Called God')"
      ]
    },
    {
      "cell_type": "code",
      "execution_count": null,
      "metadata": {
        "id": "Y3xQfvgUYebV"
      },
      "outputs": [],
      "source": [
        "# Recommendations for 'Stranger Things'\n",
        "recommend_20('Stranger Things')"
      ]
    },
    {
      "cell_type": "code",
      "execution_count": null,
      "metadata": {
        "id": "1h95ZYGpwjEw"
      },
      "outputs": [],
      "source": [
        "# Recommendations for 'Peaky Blinders'\n",
        "recommend_20('Peaky Blinders')"
      ]
    },
    {
      "cell_type": "code",
      "execution_count": null,
      "metadata": {
        "id": "2SDWez0FIr5Q"
      },
      "outputs": [],
      "source": [
        "# Recommendations for 'Lucifer'\n",
        "recommend_20('Lucifer')"
      ]
    },
    {
      "cell_type": "markdown",
      "metadata": {
        "id": "DJOjNTpfL4QZ"
      },
      "source": [
        "# **Conclusions:**"
      ]
    },
    {
      "cell_type": "markdown",
      "metadata": {
        "id": "3ojrmReqL684"
      },
      "source": [
        "- The project aimed to tackle a text clustering problem related to Netflix shows.\n",
        "-  Initial steps involved handling missing values in the dataset and conducting exploratory data analysis (EDA).\n",
        "- Observations from EDA revealed trends such as Netflix's preference for movies over TV shows and a growing total count of shows on the platform.\n",
        "- Additionally, it was noted that a significant portion of the shows originated from the United States, targeting primarily adult and young adult audiences.\n",
        "-  Clustering of the data was based on attributes including director, cast, country, genre, and description.\n",
        "-  Attribute values underwent tokenization, preprocessing, and TFIDF vectorization, resulting in 20,000 attributes.\n",
        "-  Principal Component Analysis (PCA) was utilized to reduce dimensionality, retaining 4,000 components capturing over 80% of the variance.\n",
        "- The k-means clustering algorithm was employed initially, determining the optimal number of clusters to be 6 through the elbow method and Silhouette score analysis.\n",
        "-  Subsequently, the Agglomerative clustering algorithm was used, identifying the optimal number of clusters as 12 via dendrogram visualization.\n",
        "-  Following clustering, a content-based recommender system was constructed using cosine similarity-based similarity matrices.\n",
        "-  The recommender system provides users with 20 recommendations based on their viewing preferences."
      ]
    },
    {
      "cell_type": "markdown",
      "metadata": {
        "id": "gIfDvo9L0UH2"
      },
      "source": [
        "### ***Hurrah! You have successfully completed your Machine Learning Capstone Project !!!***"
      ]
    }
  ],
  "metadata": {
    "colab": {
      "collapsed_sections": [
        "Yfr_Vlr8HBkt",
        "fF3858GYyt-u",
        "yLjJCtPM0KBk",
        "gIfDvo9L0UH2"
      ],
      "provenance": [],
      "include_colab_link": true
    },
    "kernelspec": {
      "display_name": "Python 3",
      "name": "python3"
    },
    "language_info": {
      "name": "python"
    }
  },
  "nbformat": 4,
  "nbformat_minor": 0
}